{
  "cells": [
    {
      "cell_type": "markdown",
      "metadata": {
        "id": "RhEdWd9YUR6H"
      },
      "source": [
        "### Importação dos dados\n",
        "\n"
      ]
    },
    {
      "cell_type": "code",
      "execution_count": 22,
      "metadata": {},
      "outputs": [],
      "source": [
        "import pandas as pd\n",
        "from pathlib import Path\n",
        "import matplotlib.pyplot as plt"
      ]
    },
    {
      "cell_type": "code",
      "execution_count": null,
      "metadata": {},
      "outputs": [],
      "source": [
        "path_1 = Path('base-de-dados-challenge-1\\loja_1.csv')\n",
        "path_2 = Path('base-de-dados-challenge-1\\loja_2.csv')\n",
        "path_3 = Path('base-de-dados-challenge-1\\loja_3.csv')\n",
        "path_4 = Path('base-de-dados-challenge-1\\loja_4.csv')\n",
        "\n",
        "loja_1 = pd.read_csv(path_1)\n",
        "loja_2 = pd.read_csv(path_2)\n",
        "loja_3 = pd.read_csv(path_3)\n",
        "loja_4 = pd.read_csv(path_4)"
      ]
    },
    {
      "cell_type": "code",
      "execution_count": 15,
      "metadata": {},
      "outputs": [
        {
          "name": "stdout",
          "output_type": "stream",
          "text": [
            "<class 'pandas.core.frame.DataFrame'>\n",
            "RangeIndex: 2358 entries, 0 to 2357\n",
            "Data columns (total 12 columns):\n",
            " #   Column                  Non-Null Count  Dtype  \n",
            "---  ------                  --------------  -----  \n",
            " 0   Produto                 2358 non-null   object \n",
            " 1   Categoria do Produto    2358 non-null   object \n",
            " 2   Preço                   2358 non-null   float64\n",
            " 3   Frete                   2358 non-null   float64\n",
            " 4   Data da Compra          2358 non-null   object \n",
            " 5   Vendedor                2358 non-null   object \n",
            " 6   Local da compra         2358 non-null   object \n",
            " 7   Avaliação da compra     2358 non-null   int64  \n",
            " 8   Tipo de pagamento       2358 non-null   object \n",
            " 9   Quantidade de parcelas  2358 non-null   int64  \n",
            " 10  lat                     2358 non-null   float64\n",
            " 11  lon                     2358 non-null   float64\n",
            "dtypes: float64(4), int64(2), object(6)\n",
            "memory usage: 221.2+ KB\n"
          ]
        }
      ],
      "source": [
        "loja_4.info()"
      ]
    },
    {
      "cell_type": "markdown",
      "metadata": {
        "id": "X62IW3KFUIYm"
      },
      "source": [
        "# 1. Análise do faturamento\n"
      ]
    },
    {
      "cell_type": "code",
      "execution_count": 32,
      "metadata": {
        "id": "xykobSftV64I"
      },
      "outputs": [
        {
          "data": {
            "image/png": "[encoded data removed]",
            "text/plain": [
              "<Figure size 800x500 with 1 Axes>"
            ]
          },
          "metadata": {},
          "output_type": "display_data"
        },
        {
          "data": {
            "application/vnd.microsoft.datawrangler.viewer.v0+json": {
              "columns": [
                {
                  "name": "index",
                  "rawType": "int64",
                  "type": "integer"
                },
                {
                  "name": "Loja",
                  "rawType": "object",
                  "type": "string"
                },
                {
                  "name": "Faturamento",
                  "rawType": "float64",
                  "type": "float"
                }
              ],
              "conversionMethod": "pd.DataFrame",
              "ref": "ce48aeec-ccef-4dea-a00c-4018388f0827",
              "rows": [
                [
                  "0",
                  "Loja 1",
                  "1534509.12"
                ],
                [
                  "1",
                  "Loja 2",
                  "1488459.06"
                ],
                [
                  "2",
                  "Loja 3",
                  "1464025.03"
                ],
                [
                  "3",
                  "Loja 4",
                  "1384497.58"
                ]
              ],
              "shape": {
                "columns": 2,
                "rows": 4
              }
            },
            "text/html": [
              "<div>\n",
              "<style scoped>\n",
              "    .dataframe tbody tr th:only-of-type {\n",
              "        vertical-align: middle;\n",
              "    }\n",
              "\n",
              "    .dataframe tbody tr th {\n",
              "        vertical-align: top;\n",
              "    }\n",
              "\n",
              "    .dataframe thead th {\n",
              "        text-align: right;\n",
              "    }\n",
              "</style>\n",
              "<table border=\"1\" class=\"dataframe\">\n",
              "  <thead>\n",
              "    <tr style=\"text-align: right;\">\n",
              "      <th></th>\n",
              "      <th>Loja</th>\n",
              "      <th>Faturamento</th>\n",
              "    </tr>\n",
              "  </thead>\n",
              "  <tbody>\n",
              "    <tr>\n",
              "      <th>0</th>\n",
              "      <td>Loja 1</td>\n",
              "      <td>1534509.12</td>\n",
              "    </tr>\n",
              "    <tr>\n",
              "      <th>1</th>\n",
              "      <td>Loja 2</td>\n",
              "      <td>1488459.06</td>\n",
              "    </tr>\n",
              "    <tr>\n",
              "      <th>2</th>\n",
              "      <td>Loja 3</td>\n",
              "      <td>1464025.03</td>\n",
              "    </tr>\n",
              "    <tr>\n",
              "      <th>3</th>\n",
              "      <td>Loja 4</td>\n",
              "      <td>1384497.58</td>\n",
              "    </tr>\n",
              "  </tbody>\n",
              "</table>\n",
              "</div>"
            ],
            "text/plain": [
              "     Loja  Faturamento\n",
              "0  Loja 1   1534509.12\n",
              "1  Loja 2   1488459.06\n",
              "2  Loja 3   1464025.03\n",
              "3  Loja 4   1384497.58"
            ]
          },
          "execution_count": 32,
          "metadata": {},
          "output_type": "execute_result"
        }
      ],
      "source": [
        "lista_lojas = [loja_1, loja_2, loja_3, loja_4]\n",
        "nomes_lojas = ['Loja 1', 'Loja 2', 'Loja 3', 'Loja 4']\n",
        "\n",
        "faturamento_lojas = pd.DataFrame(columns=['Loja', 'Faturamento'])\n",
        "\n",
        "for nome, loja in zip(nomes_lojas, lista_lojas):\n",
        "    faturamento = round(loja['Preço'].sum(), 2)\n",
        "    df_aux = pd.DataFrame({'Loja': [nome], 'Faturamento': [faturamento]})\n",
        "\n",
        "    if faturamento_lojas.empty:\n",
        "        faturamento_lojas = df_aux\n",
        "    else:\n",
        "        faturamento_lojas = pd.concat([faturamento_lojas, df_aux], ignore_index=True)\n",
        "\n",
        "plt.figure(figsize=(8, 5))\n",
        "plt.bar(\n",
        "    x = faturamento_lojas['Loja'],\n",
        "    height = faturamento_lojas['Faturamento']\n",
        ")\n",
        "\n",
        "plt.show()\n",
        "faturamento_lojas"
      ]
    },
    {
      "cell_type": "markdown",
      "metadata": {
        "id": "2V_vcAPzWZmR"
      },
      "source": [
        "# 2. Vendas por Categoria\n"
      ]
    },
    {
      "cell_type": "code",
      "execution_count": 35,
      "metadata": {
        "id": "A34YupIuYhfF"
      },
      "outputs": [
        {
          "data": {
            "application/vnd.microsoft.datawrangler.viewer.v0+json": {
              "columns": [
                {
                  "name": "index",
                  "rawType": "int64",
                  "type": "integer"
                },
                {
                  "name": "Loja",
                  "rawType": "object",
                  "type": "string"
                },
                {
                  "name": "Categoria do Produto",
                  "rawType": "object",
                  "type": "string"
                },
                {
                  "name": "Preço",
                  "rawType": "float64",
                  "type": "float"
                }
              ],
              "conversionMethod": "pd.DataFrame",
              "ref": "0c4f03e4-20bd-4684-ad0c-b681671b1870",
              "rows": [
                [
                  "0",
                  "Loja 1",
                  "brinquedos",
                  "23993.78"
                ],
                [
                  "1",
                  "Loja 1",
                  "eletrodomesticos",
                  "484913.36"
                ],
                [
                  "2",
                  "Loja 1",
                  "eletronicos",
                  "572659.23"
                ],
                [
                  "3",
                  "Loja 1",
                  "esporte e lazer",
                  "52387.55"
                ],
                [
                  "4",
                  "Loja 1",
                  "instrumentos musicais",
                  "121731.69"
                ],
                [
                  "5",
                  "Loja 1",
                  "livros",
                  "11713.92"
                ],
                [
                  "6",
                  "Loja 1",
                  "moveis",
                  "250178.11000000002"
                ],
                [
                  "7",
                  "Loja 1",
                  "utilidades domesticas",
                  "16931.48"
                ],
                [
                  "8",
                  "Loja 2",
                  "brinquedos",
                  "21262.21"
                ],
                [
                  "9",
                  "Loja 2",
                  "eletrodomesticos",
                  "464758.13"
                ],
                [
                  "10",
                  "Loja 2",
                  "eletronicos",
                  "547773.71"
                ],
                [
                  "11",
                  "Loja 2",
                  "esporte e lazer",
                  "46326.09"
                ],
                [
                  "12",
                  "Loja 2",
                  "instrumentos musicais",
                  "139987.03"
                ],
                [
                  "13",
                  "Loja 2",
                  "livros",
                  "13454.35"
                ],
                [
                  "14",
                  "Loja 2",
                  "moveis",
                  "235234.68"
                ],
                [
                  "15",
                  "Loja 2",
                  "utilidades domesticas",
                  "19662.86"
                ],
                [
                  "16",
                  "Loja 3",
                  "brinquedos",
                  "25869.2"
                ],
                [
                  "17",
                  "Loja 3",
                  "eletrodomesticos",
                  "438984.89"
                ],
                [
                  "18",
                  "Loja 3",
                  "eletronicos",
                  "547699.92"
                ],
                [
                  "19",
                  "Loja 3",
                  "esporte e lazer",
                  "47456.1"
                ],
                [
                  "20",
                  "Loja 3",
                  "instrumentos musicais",
                  "103174.45"
                ],
                [
                  "21",
                  "Loja 3",
                  "livros",
                  "12664.7"
                ],
                [
                  "22",
                  "Loja 3",
                  "moveis",
                  "268095.56"
                ],
                [
                  "23",
                  "Loja 3",
                  "utilidades domesticas",
                  "20080.21"
                ],
                [
                  "24",
                  "Loja 4",
                  "brinquedos",
                  "27015.67"
                ],
                [
                  "25",
                  "Loja 4",
                  "eletrodomesticos",
                  "377680.65"
                ],
                [
                  "26",
                  "Loja 4",
                  "eletronicos",
                  "545966.86"
                ],
                [
                  "27",
                  "Loja 4",
                  "esporte e lazer",
                  "44465.65"
                ],
                [
                  "28",
                  "Loja 4",
                  "instrumentos musicais",
                  "100136.5"
                ],
                [
                  "29",
                  "Loja 4",
                  "livros",
                  "12427.77"
                ],
                [
                  "30",
                  "Loja 4",
                  "moveis",
                  "256705.65"
                ],
                [
                  "31",
                  "Loja 4",
                  "utilidades domesticas",
                  "20098.83"
                ]
              ],
              "shape": {
                "columns": 3,
                "rows": 32
              }
            },
            "text/html": [
              "<div>\n",
              "<style scoped>\n",
              "    .dataframe tbody tr th:only-of-type {\n",
              "        vertical-align: middle;\n",
              "    }\n",
              "\n",
              "    .dataframe tbody tr th {\n",
              "        vertical-align: top;\n",
              "    }\n",
              "\n",
              "    .dataframe thead th {\n",
              "        text-align: right;\n",
              "    }\n",
              "</style>\n",
              "<table border=\"1\" class=\"dataframe\">\n",
              "  <thead>\n",
              "    <tr style=\"text-align: right;\">\n",
              "      <th></th>\n",
              "      <th>Loja</th>\n",
              "      <th>Categoria do Produto</th>\n",
              "      <th>Preço</th>\n",
              "    </tr>\n",
              "  </thead>\n",
              "  <tbody>\n",
              "    <tr>\n",
              "      <th>0</th>\n",
              "      <td>Loja 1</td>\n",
              "      <td>brinquedos</td>\n",
              "      <td>23993.78</td>\n",
              "    </tr>\n",
              "    <tr>\n",
              "      <th>1</th>\n",
              "      <td>Loja 1</td>\n",
              "      <td>eletrodomesticos</td>\n",
              "      <td>484913.36</td>\n",
              "    </tr>\n",
              "    <tr>\n",
              "      <th>2</th>\n",
              "      <td>Loja 1</td>\n",
              "      <td>eletronicos</td>\n",
              "      <td>572659.23</td>\n",
              "    </tr>\n",
              "    <tr>\n",
              "      <th>3</th>\n",
              "      <td>Loja 1</td>\n",
              "      <td>esporte e lazer</td>\n",
              "      <td>52387.55</td>\n",
              "    </tr>\n",
              "    <tr>\n",
              "      <th>4</th>\n",
              "      <td>Loja 1</td>\n",
              "      <td>instrumentos musicais</td>\n",
              "      <td>121731.69</td>\n",
              "    </tr>\n",
              "    <tr>\n",
              "      <th>5</th>\n",
              "      <td>Loja 1</td>\n",
              "      <td>livros</td>\n",
              "      <td>11713.92</td>\n",
              "    </tr>\n",
              "    <tr>\n",
              "      <th>6</th>\n",
              "      <td>Loja 1</td>\n",
              "      <td>moveis</td>\n",
              "      <td>250178.11</td>\n",
              "    </tr>\n",
              "    <tr>\n",
              "      <th>7</th>\n",
              "      <td>Loja 1</td>\n",
              "      <td>utilidades domesticas</td>\n",
              "      <td>16931.48</td>\n",
              "    </tr>\n",
              "    <tr>\n",
              "      <th>8</th>\n",
              "      <td>Loja 2</td>\n",
              "      <td>brinquedos</td>\n",
              "      <td>21262.21</td>\n",
              "    </tr>\n",
              "    <tr>\n",
              "      <th>9</th>\n",
              "      <td>Loja 2</td>\n",
              "      <td>eletrodomesticos</td>\n",
              "      <td>464758.13</td>\n",
              "    </tr>\n",
              "    <tr>\n",
              "      <th>10</th>\n",
              "      <td>Loja 2</td>\n",
              "      <td>eletronicos</td>\n",
              "      <td>547773.71</td>\n",
              "    </tr>\n",
              "    <tr>\n",
              "      <th>11</th>\n",
              "      <td>Loja 2</td>\n",
              "      <td>esporte e lazer</td>\n",
              "      <td>46326.09</td>\n",
              "    </tr>\n",
              "    <tr>\n",
              "      <th>12</th>\n",
              "      <td>Loja 2</td>\n",
              "      <td>instrumentos musicais</td>\n",
              "      <td>139987.03</td>\n",
              "    </tr>\n",
              "    <tr>\n",
              "      <th>13</th>\n",
              "      <td>Loja 2</td>\n",
              "      <td>livros</td>\n",
              "      <td>13454.35</td>\n",
              "    </tr>\n",
              "    <tr>\n",
              "      <th>14</th>\n",
              "      <td>Loja 2</td>\n",
              "      <td>moveis</td>\n",
              "      <td>235234.68</td>\n",
              "    </tr>\n",
              "    <tr>\n",
              "      <th>15</th>\n",
              "      <td>Loja 2</td>\n",
              "      <td>utilidades domesticas</td>\n",
              "      <td>19662.86</td>\n",
              "    </tr>\n",
              "    <tr>\n",
              "      <th>16</th>\n",
              "      <td>Loja 3</td>\n",
              "      <td>brinquedos</td>\n",
              "      <td>25869.20</td>\n",
              "    </tr>\n",
              "    <tr>\n",
              "      <th>17</th>\n",
              "      <td>Loja 3</td>\n",
              "      <td>eletrodomesticos</td>\n",
              "      <td>438984.89</td>\n",
              "    </tr>\n",
              "    <tr>\n",
              "      <th>18</th>\n",
              "      <td>Loja 3</td>\n",
              "      <td>eletronicos</td>\n",
              "      <td>547699.92</td>\n",
              "    </tr>\n",
              "    <tr>\n",
              "      <th>19</th>\n",
              "      <td>Loja 3</td>\n",
              "      <td>esporte e lazer</td>\n",
              "      <td>47456.10</td>\n",
              "    </tr>\n",
              "    <tr>\n",
              "      <th>20</th>\n",
              "      <td>Loja 3</td>\n",
              "      <td>instrumentos musicais</td>\n",
              "      <td>103174.45</td>\n",
              "    </tr>\n",
              "    <tr>\n",
              "      <th>21</th>\n",
              "      <td>Loja 3</td>\n",
              "      <td>livros</td>\n",
              "      <td>12664.70</td>\n",
              "    </tr>\n",
              "    <tr>\n",
              "      <th>22</th>\n",
              "      <td>Loja 3</td>\n",
              "      <td>moveis</td>\n",
              "      <td>268095.56</td>\n",
              "    </tr>\n",
              "    <tr>\n",
              "      <th>23</th>\n",
              "      <td>Loja 3</td>\n",
              "      <td>utilidades domesticas</td>\n",
              "      <td>20080.21</td>\n",
              "    </tr>\n",
              "    <tr>\n",
              "      <th>24</th>\n",
              "      <td>Loja 4</td>\n",
              "      <td>brinquedos</td>\n",
              "      <td>27015.67</td>\n",
              "    </tr>\n",
              "    <tr>\n",
              "      <th>25</th>\n",
              "      <td>Loja 4</td>\n",
              "      <td>eletrodomesticos</td>\n",
              "      <td>377680.65</td>\n",
              "    </tr>\n",
              "    <tr>\n",
              "      <th>26</th>\n",
              "      <td>Loja 4</td>\n",
              "      <td>eletronicos</td>\n",
              "      <td>545966.86</td>\n",
              "    </tr>\n",
              "    <tr>\n",
              "      <th>27</th>\n",
              "      <td>Loja 4</td>\n",
              "      <td>esporte e lazer</td>\n",
              "      <td>44465.65</td>\n",
              "    </tr>\n",
              "    <tr>\n",
              "      <th>28</th>\n",
              "      <td>Loja 4</td>\n",
              "      <td>instrumentos musicais</td>\n",
              "      <td>100136.50</td>\n",
              "    </tr>\n",
              "    <tr>\n",
              "      <th>29</th>\n",
              "      <td>Loja 4</td>\n",
              "      <td>livros</td>\n",
              "      <td>12427.77</td>\n",
              "    </tr>\n",
              "    <tr>\n",
              "      <th>30</th>\n",
              "      <td>Loja 4</td>\n",
              "      <td>moveis</td>\n",
              "      <td>256705.65</td>\n",
              "    </tr>\n",
              "    <tr>\n",
              "      <th>31</th>\n",
              "      <td>Loja 4</td>\n",
              "      <td>utilidades domesticas</td>\n",
              "      <td>20098.83</td>\n",
              "    </tr>\n",
              "  </tbody>\n",
              "</table>\n",
              "</div>"
            ],
            "text/plain": [
              "      Loja   Categoria do Produto      Preço\n",
              "0   Loja 1             brinquedos   23993.78\n",
              "1   Loja 1       eletrodomesticos  484913.36\n",
              "2   Loja 1            eletronicos  572659.23\n",
              "3   Loja 1        esporte e lazer   52387.55\n",
              "4   Loja 1  instrumentos musicais  121731.69\n",
              "5   Loja 1                 livros   11713.92\n",
              "6   Loja 1                 moveis  250178.11\n",
              "7   Loja 1  utilidades domesticas   16931.48\n",
              "8   Loja 2             brinquedos   21262.21\n",
              "9   Loja 2       eletrodomesticos  464758.13\n",
              "10  Loja 2            eletronicos  547773.71\n",
              "11  Loja 2        esporte e lazer   46326.09\n",
              "12  Loja 2  instrumentos musicais  139987.03\n",
              "13  Loja 2                 livros   13454.35\n",
              "14  Loja 2                 moveis  235234.68\n",
              "15  Loja 2  utilidades domesticas   19662.86\n",
              "16  Loja 3             brinquedos   25869.20\n",
              "17  Loja 3       eletrodomesticos  438984.89\n",
              "18  Loja 3            eletronicos  547699.92\n",
              "19  Loja 3        esporte e lazer   47456.10\n",
              "20  Loja 3  instrumentos musicais  103174.45\n",
              "21  Loja 3                 livros   12664.70\n",
              "22  Loja 3                 moveis  268095.56\n",
              "23  Loja 3  utilidades domesticas   20080.21\n",
              "24  Loja 4             brinquedos   27015.67\n",
              "25  Loja 4       eletrodomesticos  377680.65\n",
              "26  Loja 4            eletronicos  545966.86\n",
              "27  Loja 4        esporte e lazer   44465.65\n",
              "28  Loja 4  instrumentos musicais  100136.50\n",
              "29  Loja 4                 livros   12427.77\n",
              "30  Loja 4                 moveis  256705.65\n",
              "31  Loja 4  utilidades domesticas   20098.83"
            ]
          },
          "execution_count": 35,
          "metadata": {},
          "output_type": "execute_result"
        }
      ],
      "source": [
        "lista_lojas = [loja_1, loja_2, loja_3, loja_4]\n",
        "nomes_lojas = ['Loja 1', 'Loja 2', 'Loja 3', 'Loja 4']\n",
        "\n",
        "for nome, loja in zip(nomes_lojas, lista_lojas):\n",
        "    loja['Loja'] = nome\n",
        "\n",
        "dataset_consolidado = pd.concat(lista_lojas)\n",
        "\n",
        "vendas_categoria = dataset_consolidado.groupby(['Loja', 'Categoria do Produto'])['Preço'].sum().reset_index()\n",
        "vendas_categoria"
      ]
    },
    {
      "cell_type": "code",
      "execution_count": 44,
      "metadata": {
        "id": "yZR6cOjXYSk1"
      },
      "outputs": [
        {
          "data": {
            "application/vnd.microsoft.datawrangler.viewer.v0+json": {
              "columns": [
                {
                  "name": "Loja",
                  "rawType": "object",
                  "type": "string"
                },
                {
                  "name": "eletrodomesticos",
                  "rawType": "float64",
                  "type": "float"
                },
                {
                  "name": "eletronicos",
                  "rawType": "float64",
                  "type": "float"
                },
                {
                  "name": "moveis",
                  "rawType": "float64",
                  "type": "float"
                }
              ],
              "conversionMethod": "pd.DataFrame",
              "ref": "bf875b43-2d85-403f-8b8d-72edd5e1712c",
              "rows": [
                [
                  "Loja 1",
                  "484913.36",
                  "572659.23",
                  "250178.11"
                ],
                [
                  "Loja 2",
                  "464758.13",
                  "547773.71",
                  "235234.68"
                ],
                [
                  "Loja 3",
                  "438984.89",
                  "547699.92",
                  "268095.56"
                ],
                [
                  "Loja 4",
                  "377680.65",
                  "545966.86",
                  "256705.65"
                ]
              ],
              "shape": {
                "columns": 3,
                "rows": 4
              }
            },
            "text/html": [
              "<div>\n",
              "<style scoped>\n",
              "    .dataframe tbody tr th:only-of-type {\n",
              "        vertical-align: middle;\n",
              "    }\n",
              "\n",
              "    .dataframe tbody tr th {\n",
              "        vertical-align: top;\n",
              "    }\n",
              "\n",
              "    .dataframe thead th {\n",
              "        text-align: right;\n",
              "    }\n",
              "</style>\n",
              "<table border=\"1\" class=\"dataframe\">\n",
              "  <thead>\n",
              "    <tr style=\"text-align: right;\">\n",
              "      <th>Categoria do Produto</th>\n",
              "      <th>eletrodomesticos</th>\n",
              "      <th>eletronicos</th>\n",
              "      <th>moveis</th>\n",
              "    </tr>\n",
              "    <tr>\n",
              "      <th>Loja</th>\n",
              "      <th></th>\n",
              "      <th></th>\n",
              "      <th></th>\n",
              "    </tr>\n",
              "  </thead>\n",
              "  <tbody>\n",
              "    <tr>\n",
              "      <th>Loja 1</th>\n",
              "      <td>484913.36</td>\n",
              "      <td>572659.23</td>\n",
              "      <td>250178.11</td>\n",
              "    </tr>\n",
              "    <tr>\n",
              "      <th>Loja 2</th>\n",
              "      <td>464758.13</td>\n",
              "      <td>547773.71</td>\n",
              "      <td>235234.68</td>\n",
              "    </tr>\n",
              "    <tr>\n",
              "      <th>Loja 3</th>\n",
              "      <td>438984.89</td>\n",
              "      <td>547699.92</td>\n",
              "      <td>268095.56</td>\n",
              "    </tr>\n",
              "    <tr>\n",
              "      <th>Loja 4</th>\n",
              "      <td>377680.65</td>\n",
              "      <td>545966.86</td>\n",
              "      <td>256705.65</td>\n",
              "    </tr>\n",
              "  </tbody>\n",
              "</table>\n",
              "</div>"
            ],
            "text/plain": [
              "Categoria do Produto  eletrodomesticos  eletronicos     moveis\n",
              "Loja                                                          \n",
              "Loja 1                       484913.36    572659.23  250178.11\n",
              "Loja 2                       464758.13    547773.71  235234.68\n",
              "Loja 3                       438984.89    547699.92  268095.56\n",
              "Loja 4                       377680.65    545966.86  256705.65"
            ]
          },
          "execution_count": 44,
          "metadata": {},
          "output_type": "execute_result"
        }
      ],
      "source": [
        "lojas = vendas_categoria['Loja'].unique().tolist()\n",
        "\n",
        "acima_media = pd.DataFrame()\n",
        "\n",
        "for loja in lojas:\n",
        "    df_aux = vendas_categoria.query('Loja == @loja')\n",
        "    media = df_aux['Preço'].mean()\n",
        "    categorias_acima_media = df_aux.query('Preço > @media').sort_values('Preço', ascending=False).round(2)\n",
        "\n",
        "    if acima_media.empty:\n",
        "        acima_media = categorias_acima_media\n",
        "    else:\n",
        "        acima_media = pd.concat([acima_media, categorias_acima_media], ignore_index=True)\n",
        "\n",
        "acima_media = acima_media.pivot(\n",
        "    columns = 'Categoria do Produto',\n",
        "    index = 'Loja',\n",
        "    values = 'Preço'\n",
        ")\n",
        "\n",
        "acima_media"
      ]
    },
    {
      "cell_type": "markdown",
      "metadata": {
        "id": "Rq6tU_xSY3jk"
      },
      "source": [
        "# 3. Média de Avaliação das Lojas"
      ]
    },
    {
      "cell_type": "code",
      "execution_count": null,
      "metadata": {
        "id": "bh3jjjJwY5MU"
      },
      "outputs": [
        {
          "data": {
            "application/vnd.microsoft.datawrangler.viewer.v0+json": {
              "columns": [
                {
                  "name": "index",
                  "rawType": "int64",
                  "type": "integer"
                },
                {
                  "name": "Loja",
                  "rawType": "object",
                  "type": "string"
                },
                {
                  "name": "Avaliação da compra",
                  "rawType": "float64",
                  "type": "float"
                }
              ],
              "conversionMethod": "pd.DataFrame",
              "ref": "a9f8714b-1aed-4692-8c05-b3cee380c8c0",
              "rows": [
                [
                  "0",
                  "Loja 1",
                  "3.98"
                ],
                [
                  "1",
                  "Loja 2",
                  "4.04"
                ],
                [
                  "2",
                  "Loja 3",
                  "4.05"
                ],
                [
                  "3",
                  "Loja 4",
                  "4.0"
                ]
              ],
              "shape": {
                "columns": 2,
                "rows": 4
              }
            },
            "text/html": [
              "<div>\n",
              "<style scoped>\n",
              "    .dataframe tbody tr th:only-of-type {\n",
              "        vertical-align: middle;\n",
              "    }\n",
              "\n",
              "    .dataframe tbody tr th {\n",
              "        vertical-align: top;\n",
              "    }\n",
              "\n",
              "    .dataframe thead th {\n",
              "        text-align: right;\n",
              "    }\n",
              "</style>\n",
              "<table border=\"1\" class=\"dataframe\">\n",
              "  <thead>\n",
              "    <tr style=\"text-align: right;\">\n",
              "      <th></th>\n",
              "      <th>Loja</th>\n",
              "      <th>Avaliação da compra</th>\n",
              "    </tr>\n",
              "  </thead>\n",
              "  <tbody>\n",
              "    <tr>\n",
              "      <th>0</th>\n",
              "      <td>Loja 1</td>\n",
              "      <td>3.98</td>\n",
              "    </tr>\n",
              "    <tr>\n",
              "      <th>1</th>\n",
              "      <td>Loja 2</td>\n",
              "      <td>4.04</td>\n",
              "    </tr>\n",
              "    <tr>\n",
              "      <th>2</th>\n",
              "      <td>Loja 3</td>\n",
              "      <td>4.05</td>\n",
              "    </tr>\n",
              "    <tr>\n",
              "      <th>3</th>\n",
              "      <td>Loja 4</td>\n",
              "      <td>4.00</td>\n",
              "    </tr>\n",
              "  </tbody>\n",
              "</table>\n",
              "</div>"
            ],
            "text/plain": [
              "     Loja  Avaliação da compra\n",
              "0  Loja 1                 3.98\n",
              "1  Loja 2                 4.04\n",
              "2  Loja 3                 4.05\n",
              "3  Loja 4                 4.00"
            ]
          },
          "execution_count": 46,
          "metadata": {},
          "output_type": "execute_result"
        }
      ],
      "source": [
        "lista_lojas = [loja_1, loja_2, loja_3, loja_4]\n",
        "nomes_lojas = ['Loja 1', 'Loja 2', 'Loja 3', 'Loja 4']\n",
        "\n",
        "for nome, loja in zip(nomes_lojas, lista_lojas):\n",
        "    loja['Loja'] = nome\n",
        "\n",
        "dataset_consolidado = pd.concat(lista_lojas)\n",
        "\n",
        "media_lojas = dataset_consolidado.groupby(['Loja'])['Avaliação da compra'].mean().reset_index().round(2)\n",
        "media_lojas"
      ]
    },
    {
      "cell_type": "markdown",
      "metadata": {
        "id": "DmNp1KPBZCm-"
      },
      "source": [
        "# 4. Produtos Mais e Menos Vendidos"
      ]
    },
    {
      "cell_type": "code",
      "execution_count": 66,
      "metadata": {
        "id": "qoyjqijQZHfF"
      },
      "outputs": [
        {
          "data": {
            "application/vnd.microsoft.datawrangler.viewer.v0+json": {
              "columns": [
                {
                  "name": "index",
                  "rawType": "int64",
                  "type": "integer"
                },
                {
                  "name": "Loja",
                  "rawType": "object",
                  "type": "string"
                },
                {
                  "name": "Produto",
                  "rawType": "object",
                  "type": "string"
                },
                {
                  "name": "Quantidade",
                  "rawType": "int64",
                  "type": "integer"
                }
              ],
              "conversionMethod": "pd.DataFrame",
              "ref": "9a1e0843-c30d-4c5b-942a-0b69a4086640",
              "rows": [
                [
                  "0",
                  "Loja 1",
                  "Assistente virtual",
                  "40"
                ],
                [
                  "1",
                  "Loja 1",
                  "Bateria",
                  "53"
                ],
                [
                  "2",
                  "Loja 1",
                  "Bicicleta",
                  "54"
                ],
                [
                  "3",
                  "Loja 1",
                  "Blocos de montar",
                  "56"
                ],
                [
                  "4",
                  "Loja 1",
                  "Bola de basquete",
                  "55"
                ],
                [
                  "5",
                  "Loja 1",
                  "Bola de vôlei",
                  "42"
                ],
                [
                  "6",
                  "Loja 1",
                  "Boneca bebê",
                  "40"
                ],
                [
                  "7",
                  "Loja 1",
                  "Cadeira de escritório",
                  "46"
                ],
                [
                  "8",
                  "Loja 1",
                  "Cama box",
                  "44"
                ],
                [
                  "9",
                  "Loja 1",
                  "Cama king",
                  "44"
                ],
                [
                  "10",
                  "Loja 1",
                  "Carrinho controle remoto",
                  "52"
                ],
                [
                  "11",
                  "Loja 1",
                  "Celular ABXY",
                  "33"
                ],
                [
                  "12",
                  "Loja 1",
                  "Celular Plus X42",
                  "49"
                ],
                [
                  "13",
                  "Loja 1",
                  "Ciência de dados com python",
                  "39"
                ],
                [
                  "14",
                  "Loja 1",
                  "Copo térmico",
                  "54"
                ],
                [
                  "15",
                  "Loja 1",
                  "Corda de pular",
                  "40"
                ],
                [
                  "16",
                  "Loja 1",
                  "Cubo mágico 8x8",
                  "44"
                ],
                [
                  "17",
                  "Loja 1",
                  "Cômoda",
                  "56"
                ],
                [
                  "18",
                  "Loja 1",
                  "Dashboards com Power BI",
                  "42"
                ],
                [
                  "19",
                  "Loja 1",
                  "Dinossauro Rex",
                  "40"
                ],
                [
                  "20",
                  "Loja 1",
                  "Faqueiro",
                  "52"
                ],
                [
                  "21",
                  "Loja 1",
                  "Fogão",
                  "45"
                ],
                [
                  "22",
                  "Loja 1",
                  "Fone de ouvido",
                  "50"
                ],
                [
                  "23",
                  "Loja 1",
                  "Geladeira",
                  "54"
                ],
                [
                  "24",
                  "Loja 1",
                  "Guarda roupas",
                  "60"
                ],
                [
                  "25",
                  "Loja 1",
                  "Guitarra",
                  "47"
                ],
                [
                  "26",
                  "Loja 1",
                  "Headset",
                  "33"
                ],
                [
                  "27",
                  "Loja 1",
                  "Impressora",
                  "54"
                ],
                [
                  "28",
                  "Loja 1",
                  "Iniciando em programação",
                  "41"
                ],
                [
                  "29",
                  "Loja 1",
                  "Jogo de copos",
                  "41"
                ],
                [
                  "30",
                  "Loja 1",
                  "Jogo de panelas",
                  "43"
                ],
                [
                  "31",
                  "Loja 1",
                  "Jogo de tabuleiro",
                  "43"
                ],
                [
                  "32",
                  "Loja 1",
                  "Kit banquetas",
                  "44"
                ],
                [
                  "33",
                  "Loja 1",
                  "Lava louças",
                  "48"
                ],
                [
                  "34",
                  "Loja 1",
                  "Lavadora de roupas",
                  "47"
                ],
                [
                  "35",
                  "Loja 1",
                  "Mesa de centro",
                  "44"
                ],
                [
                  "36",
                  "Loja 1",
                  "Mesa de jantar",
                  "40"
                ],
                [
                  "37",
                  "Loja 1",
                  "Micro-ondas",
                  "60"
                ],
                [
                  "38",
                  "Loja 1",
                  "Mochila",
                  "39"
                ],
                [
                  "39",
                  "Loja 1",
                  "Modelagem preditiva",
                  "51"
                ],
                [
                  "40",
                  "Loja 1",
                  "Pandeiro",
                  "36"
                ],
                [
                  "41",
                  "Loja 1",
                  "Panela de pressão",
                  "35"
                ],
                [
                  "42",
                  "Loja 1",
                  "Poltrona",
                  "41"
                ],
                [
                  "43",
                  "Loja 1",
                  "Secadora de roupas",
                  "58"
                ],
                [
                  "44",
                  "Loja 1",
                  "Smart TV",
                  "44"
                ],
                [
                  "45",
                  "Loja 1",
                  "Smartwatch",
                  "43"
                ],
                [
                  "46",
                  "Loja 1",
                  "Sofá retrátil",
                  "46"
                ],
                [
                  "47",
                  "Loja 1",
                  "TV Led UHD 4K",
                  "60"
                ],
                [
                  "48",
                  "Loja 1",
                  "Tablet ABXY",
                  "42"
                ],
                [
                  "49",
                  "Loja 1",
                  "Violão",
                  "46"
                ]
              ],
              "shape": {
                "columns": 3,
                "rows": 204
              }
            },
            "text/html": [
              "<div>\n",
              "<style scoped>\n",
              "    .dataframe tbody tr th:only-of-type {\n",
              "        vertical-align: middle;\n",
              "    }\n",
              "\n",
              "    .dataframe tbody tr th {\n",
              "        vertical-align: top;\n",
              "    }\n",
              "\n",
              "    .dataframe thead th {\n",
              "        text-align: right;\n",
              "    }\n",
              "</style>\n",
              "<table border=\"1\" class=\"dataframe\">\n",
              "  <thead>\n",
              "    <tr style=\"text-align: right;\">\n",
              "      <th></th>\n",
              "      <th>Loja</th>\n",
              "      <th>Produto</th>\n",
              "      <th>Quantidade</th>\n",
              "    </tr>\n",
              "  </thead>\n",
              "  <tbody>\n",
              "    <tr>\n",
              "      <th>0</th>\n",
              "      <td>Loja 1</td>\n",
              "      <td>Assistente virtual</td>\n",
              "      <td>40</td>\n",
              "    </tr>\n",
              "    <tr>\n",
              "      <th>1</th>\n",
              "      <td>Loja 1</td>\n",
              "      <td>Bateria</td>\n",
              "      <td>53</td>\n",
              "    </tr>\n",
              "    <tr>\n",
              "      <th>2</th>\n",
              "      <td>Loja 1</td>\n",
              "      <td>Bicicleta</td>\n",
              "      <td>54</td>\n",
              "    </tr>\n",
              "    <tr>\n",
              "      <th>3</th>\n",
              "      <td>Loja 1</td>\n",
              "      <td>Blocos de montar</td>\n",
              "      <td>56</td>\n",
              "    </tr>\n",
              "    <tr>\n",
              "      <th>4</th>\n",
              "      <td>Loja 1</td>\n",
              "      <td>Bola de basquete</td>\n",
              "      <td>55</td>\n",
              "    </tr>\n",
              "    <tr>\n",
              "      <th>...</th>\n",
              "      <td>...</td>\n",
              "      <td>...</td>\n",
              "      <td>...</td>\n",
              "    </tr>\n",
              "    <tr>\n",
              "      <th>199</th>\n",
              "      <td>Loja 4</td>\n",
              "      <td>Sofá retrátil</td>\n",
              "      <td>47</td>\n",
              "    </tr>\n",
              "    <tr>\n",
              "      <th>200</th>\n",
              "      <td>Loja 4</td>\n",
              "      <td>TV Led UHD 4K</td>\n",
              "      <td>40</td>\n",
              "    </tr>\n",
              "    <tr>\n",
              "      <th>201</th>\n",
              "      <td>Loja 4</td>\n",
              "      <td>Tablet ABXY</td>\n",
              "      <td>45</td>\n",
              "    </tr>\n",
              "    <tr>\n",
              "      <th>202</th>\n",
              "      <td>Loja 4</td>\n",
              "      <td>Violão</td>\n",
              "      <td>37</td>\n",
              "    </tr>\n",
              "    <tr>\n",
              "      <th>203</th>\n",
              "      <td>Loja 4</td>\n",
              "      <td>Xadrez de madeira</td>\n",
              "      <td>39</td>\n",
              "    </tr>\n",
              "  </tbody>\n",
              "</table>\n",
              "<p>204 rows × 3 columns</p>\n",
              "</div>"
            ],
            "text/plain": [
              "       Loja             Produto  Quantidade\n",
              "0    Loja 1  Assistente virtual          40\n",
              "1    Loja 1             Bateria          53\n",
              "2    Loja 1           Bicicleta          54\n",
              "3    Loja 1    Blocos de montar          56\n",
              "4    Loja 1    Bola de basquete          55\n",
              "..      ...                 ...         ...\n",
              "199  Loja 4       Sofá retrátil          47\n",
              "200  Loja 4       TV Led UHD 4K          40\n",
              "201  Loja 4         Tablet ABXY          45\n",
              "202  Loja 4              Violão          37\n",
              "203  Loja 4   Xadrez de madeira          39\n",
              "\n",
              "[204 rows x 3 columns]"
            ]
          },
          "execution_count": 66,
          "metadata": {},
          "output_type": "execute_result"
        }
      ],
      "source": [
        "lista_lojas = [loja_1, loja_2, loja_3, loja_4]\n",
        "nomes_lojas = ['Loja 1', 'Loja 2', 'Loja 3', 'Loja 4']\n",
        "\n",
        "for nome, loja in zip(nomes_lojas, lista_lojas):\n",
        "    loja['Loja'] = nome\n",
        "\n",
        "dataset_consolidado = pd.concat(lista_lojas)\n",
        "\n",
        "produtos = dataset_consolidado.groupby(['Loja', 'Produto'])['Preço'].count().reset_index().round(2).rename(columns={'Preço': 'Quantidade'})\n",
        "produtos"
      ]
    },
    {
      "cell_type": "code",
      "execution_count": 68,
      "metadata": {},
      "outputs": [
        {
          "data": {
            "application/vnd.microsoft.datawrangler.viewer.v0+json": {
              "columns": [
                {
                  "name": "index",
                  "rawType": "int64",
                  "type": "integer"
                },
                {
                  "name": "Loja",
                  "rawType": "object",
                  "type": "string"
                },
                {
                  "name": "Produto_Mais_Vendido",
                  "rawType": "object",
                  "type": "string"
                },
                {
                  "name": "Produto_Menos_vendido",
                  "rawType": "object",
                  "type": "string"
                }
              ],
              "conversionMethod": "pd.DataFrame",
              "ref": "9d2b9f81-e56c-4f4d-9156-d83215076799",
              "rows": [
                [
                  "0",
                  "Loja 1",
                  "Guarda roupas",
                  "Celular ABXY"
                ],
                [
                  "1",
                  "Loja 2",
                  "Iniciando em programação",
                  "Jogo de tabuleiro"
                ],
                [
                  "2",
                  "Loja 3",
                  "Kit banquetas",
                  "Blocos de montar"
                ],
                [
                  "3",
                  "Loja 4",
                  "Cama box",
                  "Guitarra"
                ]
              ],
              "shape": {
                "columns": 3,
                "rows": 4
              }
            },
            "text/html": [
              "<div>\n",
              "<style scoped>\n",
              "    .dataframe tbody tr th:only-of-type {\n",
              "        vertical-align: middle;\n",
              "    }\n",
              "\n",
              "    .dataframe tbody tr th {\n",
              "        vertical-align: top;\n",
              "    }\n",
              "\n",
              "    .dataframe thead th {\n",
              "        text-align: right;\n",
              "    }\n",
              "</style>\n",
              "<table border=\"1\" class=\"dataframe\">\n",
              "  <thead>\n",
              "    <tr style=\"text-align: right;\">\n",
              "      <th></th>\n",
              "      <th>Loja</th>\n",
              "      <th>Produto_Mais_Vendido</th>\n",
              "      <th>Produto_Menos_vendido</th>\n",
              "    </tr>\n",
              "  </thead>\n",
              "  <tbody>\n",
              "    <tr>\n",
              "      <th>0</th>\n",
              "      <td>Loja 1</td>\n",
              "      <td>Guarda roupas</td>\n",
              "      <td>Celular ABXY</td>\n",
              "    </tr>\n",
              "    <tr>\n",
              "      <th>1</th>\n",
              "      <td>Loja 2</td>\n",
              "      <td>Iniciando em programação</td>\n",
              "      <td>Jogo de tabuleiro</td>\n",
              "    </tr>\n",
              "    <tr>\n",
              "      <th>2</th>\n",
              "      <td>Loja 3</td>\n",
              "      <td>Kit banquetas</td>\n",
              "      <td>Blocos de montar</td>\n",
              "    </tr>\n",
              "    <tr>\n",
              "      <th>3</th>\n",
              "      <td>Loja 4</td>\n",
              "      <td>Cama box</td>\n",
              "      <td>Guitarra</td>\n",
              "    </tr>\n",
              "  </tbody>\n",
              "</table>\n",
              "</div>"
            ],
            "text/plain": [
              "     Loja      Produto_Mais_Vendido Produto_Menos_vendido\n",
              "0  Loja 1             Guarda roupas          Celular ABXY\n",
              "1  Loja 2  Iniciando em programação     Jogo de tabuleiro\n",
              "2  Loja 3             Kit banquetas      Blocos de montar\n",
              "3  Loja 4                  Cama box              Guitarra"
            ]
          },
          "execution_count": 68,
          "metadata": {},
          "output_type": "execute_result"
        }
      ],
      "source": [
        "produto_mais_vendido = produtos.loc[\n",
        "    produtos.groupby('Loja')['Quantidade'].idxmax()\n",
        "].reset_index(drop=True)\n",
        "produto_mais_vendido = produto_mais_vendido[['Loja', 'Produto']].rename(\n",
        "    columns={'Produto': 'Produto_Mais_Vendido'}\n",
        ")\n",
        "\n",
        "produto_menos_vendido = produtos.loc[\n",
        "    produtos.groupby('Loja')['Quantidade'].idxmin()\n",
        "].reset_index(drop=True)\n",
        "produto_menos_vendido = produto_menos_vendido[['Loja', 'Produto']].rename(\n",
        "    columns={'Produto': 'Produto_Menos_vendido'}\n",
        ")\n",
        "\n",
        "resultado = pd.merge(produto_mais_vendido, produto_menos_vendido, on='Loja')\n",
        "resultado"
      ]
    },
    {
      "cell_type": "markdown",
      "metadata": {
        "id": "Fl0cGi3bZKqU"
      },
      "source": [
        "# 5. Frete Médio por Loja\n"
      ]
    },
    {
      "cell_type": "code",
      "execution_count": 63,
      "metadata": {
        "id": "S2JeaCykZNy9"
      },
      "outputs": [
        {
          "data": {
            "application/vnd.microsoft.datawrangler.viewer.v0+json": {
              "columns": [
                {
                  "name": "index",
                  "rawType": "int64",
                  "type": "integer"
                },
                {
                  "name": "Loja",
                  "rawType": "object",
                  "type": "string"
                },
                {
                  "name": "Frete",
                  "rawType": "float64",
                  "type": "float"
                }
              ],
              "conversionMethod": "pd.DataFrame",
              "ref": "a18dbb63-372b-4c0c-85d3-3e01a484e0c1",
              "rows": [
                [
                  "0",
                  "Loja 1",
                  "34.69"
                ],
                [
                  "1",
                  "Loja 2",
                  "33.62"
                ],
                [
                  "2",
                  "Loja 3",
                  "33.07"
                ],
                [
                  "3",
                  "Loja 4",
                  "31.28"
                ]
              ],
              "shape": {
                "columns": 2,
                "rows": 4
              }
            },
            "text/html": [
              "<div>\n",
              "<style scoped>\n",
              "    .dataframe tbody tr th:only-of-type {\n",
              "        vertical-align: middle;\n",
              "    }\n",
              "\n",
              "    .dataframe tbody tr th {\n",
              "        vertical-align: top;\n",
              "    }\n",
              "\n",
              "    .dataframe thead th {\n",
              "        text-align: right;\n",
              "    }\n",
              "</style>\n",
              "<table border=\"1\" class=\"dataframe\">\n",
              "  <thead>\n",
              "    <tr style=\"text-align: right;\">\n",
              "      <th></th>\n",
              "      <th>Loja</th>\n",
              "      <th>Frete</th>\n",
              "    </tr>\n",
              "  </thead>\n",
              "  <tbody>\n",
              "    <tr>\n",
              "      <th>0</th>\n",
              "      <td>Loja 1</td>\n",
              "      <td>34.69</td>\n",
              "    </tr>\n",
              "    <tr>\n",
              "      <th>1</th>\n",
              "      <td>Loja 2</td>\n",
              "      <td>33.62</td>\n",
              "    </tr>\n",
              "    <tr>\n",
              "      <th>2</th>\n",
              "      <td>Loja 3</td>\n",
              "      <td>33.07</td>\n",
              "    </tr>\n",
              "    <tr>\n",
              "      <th>3</th>\n",
              "      <td>Loja 4</td>\n",
              "      <td>31.28</td>\n",
              "    </tr>\n",
              "  </tbody>\n",
              "</table>\n",
              "</div>"
            ],
            "text/plain": [
              "     Loja  Frete\n",
              "0  Loja 1  34.69\n",
              "1  Loja 2  33.62\n",
              "2  Loja 3  33.07\n",
              "3  Loja 4  31.28"
            ]
          },
          "execution_count": 63,
          "metadata": {},
          "output_type": "execute_result"
        }
      ],
      "source": [
        "lista_lojas = [loja_1, loja_2, loja_3, loja_4]\n",
        "nomes_lojas = ['Loja 1', 'Loja 2', 'Loja 3', 'Loja 4']\n",
        "\n",
        "for nome, loja in zip(nomes_lojas, lista_lojas):\n",
        "    loja['Loja'] = nome\n",
        "\n",
        "dataset_consolidado = pd.concat(lista_lojas)\n",
        "\n",
        "media_lojas_frete = dataset_consolidado.groupby(['Loja'])['Frete'].mean().reset_index().round(2)\n",
        "media_lojas_frete"
      ]
    },
    {
      "cell_type": "code",
      "execution_count": null,
      "metadata": {
        "id": "0tSdCie9ZQlt"
      },
      "outputs": [],
      "source": []
    }
  ],
  "metadata": {
    "colab": {
      "provenance": []
    },
    "kernelspec": {
      "display_name": "Python 3",
      "name": "python3"
    },
    "language_info": {
      "codemirror_mode": {
        "name": "ipython",
        "version": 3
      },
      "file_extension": ".py",
      "mimetype": "text/x-python",
      "name": "python",
      "nbconvert_exporter": "python",
      "pygments_lexer": "ipython3",
      "version": "3.10.11"
    }
  },
  "nbformat": 4,
  "nbformat_minor": 0
}
