{
  "cells": [
    {
      "cell_type": "markdown",
      "metadata": {},
      "source": [
        "# Resultados Analise"
      ]
    },
    {
      "cell_type": "markdown",
      "metadata": {},
      "source": [
        "> **Contexto:**  \n",
        "> O objetivo desta análise é identificar, com base nos dados, qual das quatro lojas o Sr. João deve vender. Para essa decisão, serão avaliadas métricas relacionadas ao faturamento, avaliação, entre outras.\n",
        "> \n",
        "> **Resultados:**  \n",
        "> A análise e comparação do faturamento das quatro lojas mostram que a Loja 4 apresenta desempenho inferior às demais. Ao observarmos a evolução do faturamento, é notável que, desde janeiro de 2022, a loja registra uma queda contínua. Apesar de uma leve recuperação em determinado momento, a tendência geral ainda é de declínio.  \n",
        "> \n",
        "> As Lojas 1 e 4 têm as piores avaliações. Até 25% das avaliações dessas lojas estão entre as notas 1 e 3, enquanto esse tipo de avaliação é raro nas demais.\n",
        "> \n",
        "> **Recomendação:**  \n",
        "> Recomendamos a venda da Loja 4, pois, além de ter baixa avaliação, apresenta queda persistente no faturamento.\n",
        "\n",
        "\n",
        "A analise realizada, pode ser consultada na proximas celas."
      ]
    },
    {
      "cell_type": "markdown",
      "metadata": {
        "id": "RhEdWd9YUR6H"
      },
      "source": [
        "### Importação dos dados\n",
        "\n"
      ]
    },
    {
      "cell_type": "code",
      "execution_count": 1,
      "metadata": {},
      "outputs": [],
      "source": [
        "import pandas as pd\n",
        "from pathlib import Path\n",
        "import matplotlib.pyplot as plt"
      ]
    },
    {
      "cell_type": "code",
      "execution_count": 2,
      "metadata": {},
      "outputs": [
        {
          "data": {
            "application/vnd.microsoft.datawrangler.viewer.v0+json": {
              "columns": [
                {
                  "name": "index",
                  "rawType": "int64",
                  "type": "integer"
                },
                {
                  "name": "Produto",
                  "rawType": "object",
                  "type": "string"
                },
                {
                  "name": "Categoria do Produto",
                  "rawType": "object",
                  "type": "string"
                },
                {
                  "name": "Preço",
                  "rawType": "float64",
                  "type": "float"
                },
                {
                  "name": "Frete",
                  "rawType": "float64",
                  "type": "float"
                },
                {
                  "name": "Data da Compra",
                  "rawType": "object",
                  "type": "string"
                },
                {
                  "name": "Vendedor",
                  "rawType": "object",
                  "type": "string"
                },
                {
                  "name": "Local da compra",
                  "rawType": "object",
                  "type": "string"
                },
                {
                  "name": "Avaliação da compra",
                  "rawType": "int64",
                  "type": "integer"
                },
                {
                  "name": "Tipo de pagamento",
                  "rawType": "object",
                  "type": "string"
                },
                {
                  "name": "Quantidade de parcelas",
                  "rawType": "int64",
                  "type": "integer"
                },
                {
                  "name": "lat",
                  "rawType": "float64",
                  "type": "float"
                },
                {
                  "name": "lon",
                  "rawType": "float64",
                  "type": "float"
                },
                {
                  "name": "Loja",
                  "rawType": "object",
                  "type": "string"
                }
              ],
              "conversionMethod": "pd.DataFrame",
              "ref": "ee702bce-a1ee-4dff-95af-a310409241cb",
              "rows": [
                [
                  "0",
                  "Assistente virtual",
                  "eletronicos",
                  "219.08",
                  "9.2497899853",
                  "16/01/2021",
                  "Pedro Gomes",
                  "SP",
                  "4",
                  "cartao_credito",
                  "8",
                  "-22.19",
                  "-48.79",
                  "Loja 1"
                ],
                [
                  "1",
                  "Mesa de jantar",
                  "moveis",
                  "256.35",
                  "11.2343053621",
                  "18/05/2022",
                  "Beatriz Moraes",
                  "RJ",
                  "1",
                  "cartao_credito",
                  "4",
                  "-22.25",
                  "-42.66",
                  "Loja 1"
                ],
                [
                  "2",
                  "Jogo de tabuleiro",
                  "brinquedos",
                  "279.51",
                  "21.2626809863",
                  "15/03/2021",
                  "João Souza",
                  "DF",
                  "1",
                  "cartao_credito",
                  "1",
                  "-15.83",
                  "-47.86",
                  "Loja 1"
                ],
                [
                  "3",
                  "Micro-ondas",
                  "eletrodomesticos",
                  "1009.99",
                  "54.6673442173",
                  "03/05/2022",
                  "João Souza",
                  "RS",
                  "4",
                  "boleto",
                  "1",
                  "-30.17",
                  "-53.5",
                  "Loja 1"
                ],
                [
                  "4",
                  "Cadeira de escritório",
                  "moveis",
                  "446.99",
                  "26.9646890964",
                  "07/11/2020",
                  "Larissa Alves",
                  "MG",
                  "5",
                  "boleto",
                  "1",
                  "-18.1",
                  "-44.38",
                  "Loja 1"
                ],
                [
                  "5",
                  "Blocos de montar",
                  "brinquedos",
                  "32.26",
                  "0.0",
                  "03/12/2020",
                  "Beatriz Moraes",
                  "RS",
                  "5",
                  "cupom",
                  "1",
                  "-30.17",
                  "-53.5",
                  "Loja 1"
                ],
                [
                  "6",
                  "Boneca bebê",
                  "brinquedos",
                  "58.9",
                  "0.0",
                  "07/08/2021",
                  "João Souza",
                  "SP",
                  "3",
                  "boleto",
                  "1",
                  "-22.19",
                  "-48.79",
                  "Loja 1"
                ],
                [
                  "7",
                  "Lava louças",
                  "eletrodomesticos",
                  "1586.23",
                  "84.9930800049",
                  "18/06/2021",
                  "Felipe Santos",
                  "CE",
                  "5",
                  "cartao_credito",
                  "10",
                  "-5.2",
                  "-39.53",
                  "Loja 1"
                ],
                [
                  "8",
                  "Lavadora de roupas",
                  "eletrodomesticos",
                  "2024.31",
                  "105.3728566247",
                  "08/01/2022",
                  "Thiago Silva",
                  "SP",
                  "1",
                  "cartao_credito",
                  "5",
                  "-22.19",
                  "-48.79",
                  "Loja 1"
                ],
                [
                  "9",
                  "Carrinho controle remoto",
                  "brinquedos",
                  "100.26",
                  "6.737658724",
                  "24/02/2020",
                  "Beatriz Moraes",
                  "SP",
                  "5",
                  "boleto",
                  "1",
                  "-22.19",
                  "-48.79",
                  "Loja 1"
                ],
                [
                  "10",
                  "Geladeira",
                  "eletrodomesticos",
                  "3241.75",
                  "170.1978740737",
                  "03/04/2020",
                  "Bianca Santos",
                  "SP",
                  "5",
                  "cartao_credito",
                  "2",
                  "-22.19",
                  "-48.79",
                  "Loja 1"
                ],
                [
                  "11",
                  "Lava louças",
                  "eletrodomesticos",
                  "1889.5",
                  "100.8989674334",
                  "05/07/2021",
                  "Rafael Costa",
                  "DF",
                  "5",
                  "cartao_credito",
                  "1",
                  "-15.83",
                  "-47.86",
                  "Loja 1"
                ],
                [
                  "12",
                  "Fone de ouvido",
                  "eletronicos",
                  "122.42",
                  "7.0496012363",
                  "20/02/2020",
                  "Rafael Costa",
                  "RJ",
                  "1",
                  "cartao_credito",
                  "5",
                  "-22.25",
                  "-42.66",
                  "Loja 1"
                ],
                [
                  "13",
                  "Panela de pressão",
                  "utilidades domesticas",
                  "88.91",
                  "2.3186290892",
                  "10/09/2020",
                  "Thiago Silva",
                  "ES",
                  "4",
                  "cartao_credito",
                  "2",
                  "-19.19",
                  "-40.34",
                  "Loja 1"
                ],
                [
                  "14",
                  "Bicicleta",
                  "esporte e lazer",
                  "817.71",
                  "41.1250365646",
                  "04/09/2020",
                  "João Souza",
                  "SP",
                  "2",
                  "cartao_credito",
                  "8",
                  "-22.19",
                  "-48.79",
                  "Loja 1"
                ],
                [
                  "15",
                  "Ciência de dados com python",
                  "livros",
                  "75.92",
                  "1.6269506684",
                  "16/12/2020",
                  "Thiago Silva",
                  "RS",
                  "5",
                  "cartao_credito",
                  "5",
                  "-30.17",
                  "-53.5",
                  "Loja 1"
                ],
                [
                  "16",
                  "Bola de vôlei",
                  "esporte e lazer",
                  "78.53",
                  "1.7659253164",
                  "03/05/2022",
                  "Pedro Gomes",
                  "RJ",
                  "2",
                  "boleto",
                  "1",
                  "-22.25",
                  "-42.66",
                  "Loja 1"
                ],
                [
                  "17",
                  "Xadrez de madeira",
                  "brinquedos",
                  "39.44",
                  "2.3831872573",
                  "22/07/2021",
                  "Thiago Silva",
                  "CE",
                  "5",
                  "cartao_credito",
                  "2",
                  "-5.2",
                  "-39.53",
                  "Loja 1"
                ],
                [
                  "18",
                  "TV Led UHD 4K",
                  "eletronicos",
                  "2522.26",
                  "143.8837005579",
                  "09/01/2022",
                  "Beatriz Moraes",
                  "SP",
                  "3",
                  "cartao_credito",
                  "5",
                  "-22.19",
                  "-48.79",
                  "Loja 1"
                ],
                [
                  "19",
                  "Jogo de tabuleiro",
                  "brinquedos",
                  "185.17",
                  "13.0235617567",
                  "10/01/2020",
                  "Thiago Silva",
                  "MG",
                  "4",
                  "cartao_credito",
                  "4",
                  "-18.1",
                  "-44.38",
                  "Loja 1"
                ],
                [
                  "20",
                  "Micro-ondas",
                  "eletrodomesticos",
                  "580.92",
                  "31.2153682668",
                  "11/03/2021",
                  "Thiago Silva",
                  "RS",
                  "5",
                  "cupom",
                  "1",
                  "-30.17",
                  "-53.5",
                  "Loja 1"
                ],
                [
                  "21",
                  "Copo térmico",
                  "esporte e lazer",
                  "67.73",
                  "4.1375232659",
                  "11/07/2022",
                  "Camila Ribeiro",
                  "SP",
                  "5",
                  "cartao_credito",
                  "2",
                  "-22.19",
                  "-48.79",
                  "Loja 1"
                ],
                [
                  "22",
                  "Bicicleta",
                  "esporte e lazer",
                  "685.95",
                  "36.8078997942",
                  "21/04/2022",
                  "Larissa Alves",
                  "RJ",
                  "3",
                  "cartao_credito",
                  "10",
                  "-22.25",
                  "-42.66",
                  "Loja 1"
                ],
                [
                  "23",
                  "Kit banquetas",
                  "moveis",
                  "391.33",
                  "18.4215842878",
                  "06/03/2023",
                  "Camila Ribeiro",
                  "SP",
                  "4",
                  "cartao_credito",
                  "3",
                  "-22.19",
                  "-48.79",
                  "Loja 1"
                ],
                [
                  "24",
                  "Dashboards com Power BI",
                  "livros",
                  "44.69",
                  "0.0",
                  "14/02/2023",
                  "Pedro Gomes",
                  "MG",
                  "5",
                  "cartao_credito",
                  "2",
                  "-18.1",
                  "-44.38",
                  "Loja 1"
                ],
                [
                  "25",
                  "Faqueiro",
                  "utilidades domesticas",
                  "63.85",
                  "4.3396682456",
                  "20/03/2021",
                  "João Souza",
                  "SP",
                  "5",
                  "boleto",
                  "1",
                  "-22.19",
                  "-48.79",
                  "Loja 1"
                ],
                [
                  "26",
                  "Jogo de panelas",
                  "utilidades domesticas",
                  "185.73",
                  "10.7779789242",
                  "06/03/2023",
                  "Beatriz Moraes",
                  "MG",
                  "5",
                  "boleto",
                  "1",
                  "-18.1",
                  "-44.38",
                  "Loja 1"
                ],
                [
                  "27",
                  "Bateria",
                  "instrumentos musicais",
                  "778.57",
                  "39.0409493135",
                  "14/09/2020",
                  "Juliana Costa",
                  "SP",
                  "1",
                  "cartao_credito",
                  "8",
                  "-22.19",
                  "-48.79",
                  "Loja 1"
                ],
                [
                  "28",
                  "Corda de pular",
                  "esporte e lazer",
                  "24.58",
                  "1.5919369622",
                  "18/07/2020",
                  "Felipe Santos",
                  "BA",
                  "1",
                  "cartao_credito",
                  "4",
                  "-13.29",
                  "-41.71",
                  "Loja 1"
                ],
                [
                  "29",
                  "Carrinho controle remoto",
                  "brinquedos",
                  "105.48",
                  "3.20093174",
                  "15/12/2021",
                  "Bruno Rodrigues",
                  "SP",
                  "4",
                  "cupom",
                  "1",
                  "-22.19",
                  "-48.79",
                  "Loja 1"
                ],
                [
                  "30",
                  "Fogão",
                  "eletrodomesticos",
                  "752.25",
                  "37.6394884947",
                  "08/09/2021",
                  "Mariana Ferreira",
                  "RJ",
                  "1",
                  "cartao_credito",
                  "1",
                  "-22.25",
                  "-42.66",
                  "Loja 1"
                ],
                [
                  "31",
                  "Jogo de tabuleiro",
                  "brinquedos",
                  "205.26",
                  "8.5139165614",
                  "15/08/2021",
                  "Bruno Rodrigues",
                  "MG",
                  "3",
                  "cartao_credito",
                  "3",
                  "-18.1",
                  "-44.38",
                  "Loja 1"
                ],
                [
                  "32",
                  "Cama box",
                  "moveis",
                  "441.88",
                  "23.8175574588",
                  "04/02/2020",
                  "Felipe Santos",
                  "RJ",
                  "2",
                  "cartao_credito",
                  "5",
                  "-22.25",
                  "-42.66",
                  "Loja 1"
                ],
                [
                  "33",
                  "Copo térmico",
                  "esporte e lazer",
                  "74.16",
                  "10.328411262",
                  "26/04/2020",
                  "Juliana Costa",
                  "SP",
                  "5",
                  "cartao_credito",
                  "1",
                  "-22.19",
                  "-48.79",
                  "Loja 1"
                ],
                [
                  "34",
                  "Blocos de montar",
                  "brinquedos",
                  "32.94",
                  "2.2850604283",
                  "13/05/2021",
                  "Bianca Santos",
                  "SP",
                  "5",
                  "cartao_credito",
                  "2",
                  "-22.19",
                  "-48.79",
                  "Loja 1"
                ],
                [
                  "35",
                  "Copo térmico",
                  "esporte e lazer",
                  "83.08",
                  "2.0081991282",
                  "22/05/2022",
                  "Felipe Santos",
                  "MG",
                  "3",
                  "cartao_credito",
                  "1",
                  "-18.1",
                  "-44.38",
                  "Loja 1"
                ],
                [
                  "36",
                  "Impressora",
                  "eletronicos",
                  "400.26",
                  "21.5957667651",
                  "16/08/2021",
                  "Bianca Santos",
                  "SP",
                  "5",
                  "cartao_credito",
                  "8",
                  "-22.19",
                  "-48.79",
                  "Loja 1"
                ],
                [
                  "37",
                  "Cômoda",
                  "moveis",
                  "407.18",
                  "22.2122145633",
                  "31/07/2021",
                  "Camila Ribeiro",
                  "RS",
                  "5",
                  "cartao_credito",
                  "3",
                  "-30.17",
                  "-53.5",
                  "Loja 1"
                ],
                [
                  "38",
                  "Dashboards com Power BI",
                  "livros",
                  "40.62",
                  "9.9649024163",
                  "17/08/2020",
                  "Bruno Rodrigues",
                  "SP",
                  "5",
                  "cartao_credito",
                  "3",
                  "-22.19",
                  "-48.79",
                  "Loja 1"
                ],
                [
                  "39",
                  "Cama box",
                  "moveis",
                  "436.23",
                  "20.8123742104",
                  "21/09/2021",
                  "Mariana Ferreira",
                  "TO",
                  "5",
                  "cartao_credito",
                  "1",
                  "-9.46",
                  "-48.26",
                  "Loja 1"
                ],
                [
                  "40",
                  "Fone de ouvido",
                  "eletronicos",
                  "91.05",
                  "2.4325776512",
                  "16/09/2022",
                  "Rafael Costa",
                  "PR",
                  "5",
                  "cupom",
                  "1",
                  "-24.89",
                  "-51.55",
                  "Loja 1"
                ],
                [
                  "41",
                  "Guarda roupas",
                  "moveis",
                  "684.48",
                  "34.0309398742",
                  "02/08/2021",
                  "Mariana Ferreira",
                  "RS",
                  "5",
                  "cartao_credito",
                  "5",
                  "-30.17",
                  "-53.5",
                  "Loja 1"
                ],
                [
                  "42",
                  "Dinossauro Rex",
                  "brinquedos",
                  "18.55",
                  "4.1515480169",
                  "27/04/2021",
                  "Thiago Silva",
                  "RJ",
                  "4",
                  "boleto",
                  "1",
                  "-22.25",
                  "-42.66",
                  "Loja 1"
                ],
                [
                  "43",
                  "Micro-ondas",
                  "eletrodomesticos",
                  "482.73",
                  "23.2883593197",
                  "19/02/2021",
                  "Juliana Costa",
                  "SP",
                  "1",
                  "cartao_credito",
                  "5",
                  "-22.19",
                  "-48.79",
                  "Loja 1"
                ],
                [
                  "44",
                  "Jogo de tabuleiro",
                  "brinquedos",
                  "320.35",
                  "14.6421128243",
                  "26/03/2022",
                  "João Souza",
                  "SP",
                  "4",
                  "cartao_credito",
                  "12",
                  "-22.19",
                  "-48.79",
                  "Loja 1"
                ],
                [
                  "45",
                  "Bicicleta",
                  "esporte e lazer",
                  "571.09",
                  "27.9932634971",
                  "17/12/2021",
                  "Juliana Costa",
                  "RJ",
                  "5",
                  "cartao_credito",
                  "1",
                  "-22.25",
                  "-42.66",
                  "Loja 1"
                ],
                [
                  "46",
                  "Guitarra",
                  "instrumentos musicais",
                  "905.39",
                  "45.7937327878",
                  "24/02/2023",
                  "João Souza",
                  "AP",
                  "4",
                  "cartao_credito",
                  "4",
                  "1.41",
                  "-51.77",
                  "Loja 1"
                ],
                [
                  "47",
                  "Jogo de panelas",
                  "utilidades domesticas",
                  "134.52",
                  "7.4515621217",
                  "19/07/2021",
                  "Mariana Ferreira",
                  "MG",
                  "5",
                  "cartao_credito",
                  "1",
                  "-18.1",
                  "-44.38",
                  "Loja 1"
                ],
                [
                  "48",
                  "Secadora de roupas",
                  "eletrodomesticos",
                  "986.28",
                  "53.2034550222",
                  "05/05/2020",
                  "Thiago Silva",
                  "RS",
                  "5",
                  "boleto",
                  "1",
                  "-30.17",
                  "-53.5",
                  "Loja 1"
                ],
                [
                  "49",
                  "Sofá retrátil",
                  "moveis",
                  "840.05",
                  "42.3145743569",
                  "26/12/2022",
                  "Rafael Costa",
                  "GO",
                  "2",
                  "cartao_credito",
                  "10",
                  "-15.98",
                  "-49.86",
                  "Loja 1"
                ]
              ],
              "shape": {
                "columns": 13,
                "rows": 9435
              }
            },
            "text/html": [
              "<div>\n",
              "<style scoped>\n",
              "    .dataframe tbody tr th:only-of-type {\n",
              "        vertical-align: middle;\n",
              "    }\n",
              "\n",
              "    .dataframe tbody tr th {\n",
              "        vertical-align: top;\n",
              "    }\n",
              "\n",
              "    .dataframe thead th {\n",
              "        text-align: right;\n",
              "    }\n",
              "</style>\n",
              "<table border=\"1\" class=\"dataframe\">\n",
              "  <thead>\n",
              "    <tr style=\"text-align: right;\">\n",
              "      <th></th>\n",
              "      <th>Produto</th>\n",
              "      <th>Categoria do Produto</th>\n",
              "      <th>Preço</th>\n",
              "      <th>Frete</th>\n",
              "      <th>Data da Compra</th>\n",
              "      <th>Vendedor</th>\n",
              "      <th>Local da compra</th>\n",
              "      <th>Avaliação da compra</th>\n",
              "      <th>Tipo de pagamento</th>\n",
              "      <th>Quantidade de parcelas</th>\n",
              "      <th>lat</th>\n",
              "      <th>lon</th>\n",
              "      <th>Loja</th>\n",
              "    </tr>\n",
              "  </thead>\n",
              "  <tbody>\n",
              "    <tr>\n",
              "      <th>0</th>\n",
              "      <td>Assistente virtual</td>\n",
              "      <td>eletronicos</td>\n",
              "      <td>219.08</td>\n",
              "      <td>9.249790</td>\n",
              "      <td>16/01/2021</td>\n",
              "      <td>Pedro Gomes</td>\n",
              "      <td>SP</td>\n",
              "      <td>4</td>\n",
              "      <td>cartao_credito</td>\n",
              "      <td>8</td>\n",
              "      <td>-22.19</td>\n",
              "      <td>-48.79</td>\n",
              "      <td>Loja 1</td>\n",
              "    </tr>\n",
              "    <tr>\n",
              "      <th>1</th>\n",
              "      <td>Mesa de jantar</td>\n",
              "      <td>moveis</td>\n",
              "      <td>256.35</td>\n",
              "      <td>11.234305</td>\n",
              "      <td>18/05/2022</td>\n",
              "      <td>Beatriz Moraes</td>\n",
              "      <td>RJ</td>\n",
              "      <td>1</td>\n",
              "      <td>cartao_credito</td>\n",
              "      <td>4</td>\n",
              "      <td>-22.25</td>\n",
              "      <td>-42.66</td>\n",
              "      <td>Loja 1</td>\n",
              "    </tr>\n",
              "    <tr>\n",
              "      <th>2</th>\n",
              "      <td>Jogo de tabuleiro</td>\n",
              "      <td>brinquedos</td>\n",
              "      <td>279.51</td>\n",
              "      <td>21.262681</td>\n",
              "      <td>15/03/2021</td>\n",
              "      <td>João Souza</td>\n",
              "      <td>DF</td>\n",
              "      <td>1</td>\n",
              "      <td>cartao_credito</td>\n",
              "      <td>1</td>\n",
              "      <td>-15.83</td>\n",
              "      <td>-47.86</td>\n",
              "      <td>Loja 1</td>\n",
              "    </tr>\n",
              "    <tr>\n",
              "      <th>3</th>\n",
              "      <td>Micro-ondas</td>\n",
              "      <td>eletrodomesticos</td>\n",
              "      <td>1009.99</td>\n",
              "      <td>54.667344</td>\n",
              "      <td>03/05/2022</td>\n",
              "      <td>João Souza</td>\n",
              "      <td>RS</td>\n",
              "      <td>4</td>\n",
              "      <td>boleto</td>\n",
              "      <td>1</td>\n",
              "      <td>-30.17</td>\n",
              "      <td>-53.50</td>\n",
              "      <td>Loja 1</td>\n",
              "    </tr>\n",
              "    <tr>\n",
              "      <th>4</th>\n",
              "      <td>Cadeira de escritório</td>\n",
              "      <td>moveis</td>\n",
              "      <td>446.99</td>\n",
              "      <td>26.964689</td>\n",
              "      <td>07/11/2020</td>\n",
              "      <td>Larissa Alves</td>\n",
              "      <td>MG</td>\n",
              "      <td>5</td>\n",
              "      <td>boleto</td>\n",
              "      <td>1</td>\n",
              "      <td>-18.10</td>\n",
              "      <td>-44.38</td>\n",
              "      <td>Loja 1</td>\n",
              "    </tr>\n",
              "    <tr>\n",
              "      <th>...</th>\n",
              "      <td>...</td>\n",
              "      <td>...</td>\n",
              "      <td>...</td>\n",
              "      <td>...</td>\n",
              "      <td>...</td>\n",
              "      <td>...</td>\n",
              "      <td>...</td>\n",
              "      <td>...</td>\n",
              "      <td>...</td>\n",
              "      <td>...</td>\n",
              "      <td>...</td>\n",
              "      <td>...</td>\n",
              "      <td>...</td>\n",
              "    </tr>\n",
              "    <tr>\n",
              "      <th>2353</th>\n",
              "      <td>Mesa de jantar</td>\n",
              "      <td>moveis</td>\n",
              "      <td>303.60</td>\n",
              "      <td>16.852799</td>\n",
              "      <td>12/02/2020</td>\n",
              "      <td>Camila Ribeiro</td>\n",
              "      <td>RJ</td>\n",
              "      <td>5</td>\n",
              "      <td>cartao_credito</td>\n",
              "      <td>1</td>\n",
              "      <td>-22.25</td>\n",
              "      <td>-42.66</td>\n",
              "      <td>Loja 4</td>\n",
              "    </tr>\n",
              "    <tr>\n",
              "      <th>2354</th>\n",
              "      <td>Cadeira de escritório</td>\n",
              "      <td>moveis</td>\n",
              "      <td>456.02</td>\n",
              "      <td>24.812798</td>\n",
              "      <td>17/05/2022</td>\n",
              "      <td>Felipe Santos</td>\n",
              "      <td>PE</td>\n",
              "      <td>5</td>\n",
              "      <td>cartao_credito</td>\n",
              "      <td>3</td>\n",
              "      <td>-8.38</td>\n",
              "      <td>-37.86</td>\n",
              "      <td>Loja 4</td>\n",
              "    </tr>\n",
              "    <tr>\n",
              "      <th>2355</th>\n",
              "      <td>Copo térmico</td>\n",
              "      <td>esporte e lazer</td>\n",
              "      <td>48.99</td>\n",
              "      <td>3.139675</td>\n",
              "      <td>03/05/2022</td>\n",
              "      <td>Camila Ribeiro</td>\n",
              "      <td>SP</td>\n",
              "      <td>5</td>\n",
              "      <td>cartao_credito</td>\n",
              "      <td>1</td>\n",
              "      <td>-22.19</td>\n",
              "      <td>-48.79</td>\n",
              "      <td>Loja 4</td>\n",
              "    </tr>\n",
              "    <tr>\n",
              "      <th>2356</th>\n",
              "      <td>Jogo de panelas</td>\n",
              "      <td>utilidades domesticas</td>\n",
              "      <td>202.45</td>\n",
              "      <td>11.062979</td>\n",
              "      <td>15/06/2020</td>\n",
              "      <td>Bianca Santos</td>\n",
              "      <td>PR</td>\n",
              "      <td>5</td>\n",
              "      <td>cartao_credito</td>\n",
              "      <td>1</td>\n",
              "      <td>-24.89</td>\n",
              "      <td>-51.55</td>\n",
              "      <td>Loja 4</td>\n",
              "    </tr>\n",
              "    <tr>\n",
              "      <th>2357</th>\n",
              "      <td>Corda de pular</td>\n",
              "      <td>esporte e lazer</td>\n",
              "      <td>14.89</td>\n",
              "      <td>1.732696</td>\n",
              "      <td>17/11/2021</td>\n",
              "      <td>Felipe Santos</td>\n",
              "      <td>SP</td>\n",
              "      <td>5</td>\n",
              "      <td>cartao_credito</td>\n",
              "      <td>1</td>\n",
              "      <td>-22.19</td>\n",
              "      <td>-48.79</td>\n",
              "      <td>Loja 4</td>\n",
              "    </tr>\n",
              "  </tbody>\n",
              "</table>\n",
              "<p>9435 rows × 13 columns</p>\n",
              "</div>"
            ],
            "text/plain": [
              "                    Produto   Categoria do Produto    Preço      Frete  \\\n",
              "0        Assistente virtual            eletronicos   219.08   9.249790   \n",
              "1            Mesa de jantar                 moveis   256.35  11.234305   \n",
              "2         Jogo de tabuleiro             brinquedos   279.51  21.262681   \n",
              "3               Micro-ondas       eletrodomesticos  1009.99  54.667344   \n",
              "4     Cadeira de escritório                 moveis   446.99  26.964689   \n",
              "...                     ...                    ...      ...        ...   \n",
              "2353         Mesa de jantar                 moveis   303.60  16.852799   \n",
              "2354  Cadeira de escritório                 moveis   456.02  24.812798   \n",
              "2355           Copo térmico        esporte e lazer    48.99   3.139675   \n",
              "2356        Jogo de panelas  utilidades domesticas   202.45  11.062979   \n",
              "2357         Corda de pular        esporte e lazer    14.89   1.732696   \n",
              "\n",
              "     Data da Compra        Vendedor Local da compra  Avaliação da compra  \\\n",
              "0        16/01/2021     Pedro Gomes              SP                    4   \n",
              "1        18/05/2022  Beatriz Moraes              RJ                    1   \n",
              "2        15/03/2021      João Souza              DF                    1   \n",
              "3        03/05/2022      João Souza              RS                    4   \n",
              "4        07/11/2020   Larissa Alves              MG                    5   \n",
              "...             ...             ...             ...                  ...   \n",
              "2353     12/02/2020  Camila Ribeiro              RJ                    5   \n",
              "2354     17/05/2022   Felipe Santos              PE                    5   \n",
              "2355     03/05/2022  Camila Ribeiro              SP                    5   \n",
              "2356     15/06/2020   Bianca Santos              PR                    5   \n",
              "2357     17/11/2021   Felipe Santos              SP                    5   \n",
              "\n",
              "     Tipo de pagamento  Quantidade de parcelas    lat    lon    Loja  \n",
              "0       cartao_credito                       8 -22.19 -48.79  Loja 1  \n",
              "1       cartao_credito                       4 -22.25 -42.66  Loja 1  \n",
              "2       cartao_credito                       1 -15.83 -47.86  Loja 1  \n",
              "3               boleto                       1 -30.17 -53.50  Loja 1  \n",
              "4               boleto                       1 -18.10 -44.38  Loja 1  \n",
              "...                ...                     ...    ...    ...     ...  \n",
              "2353    cartao_credito                       1 -22.25 -42.66  Loja 4  \n",
              "2354    cartao_credito                       3  -8.38 -37.86  Loja 4  \n",
              "2355    cartao_credito                       1 -22.19 -48.79  Loja 4  \n",
              "2356    cartao_credito                       1 -24.89 -51.55  Loja 4  \n",
              "2357    cartao_credito                       1 -22.19 -48.79  Loja 4  \n",
              "\n",
              "[9435 rows x 13 columns]"
            ]
          },
          "execution_count": 2,
          "metadata": {},
          "output_type": "execute_result"
        }
      ],
      "source": [
        "path_1 = Path('base-de-dados-challenge-1\\loja_1.csv')\n",
        "path_2 = Path('base-de-dados-challenge-1\\loja_2.csv')\n",
        "path_3 = Path('base-de-dados-challenge-1\\loja_3.csv')\n",
        "path_4 = Path('base-de-dados-challenge-1\\loja_4.csv')\n",
        "\n",
        "loja_1 = pd.read_csv(path_1)\n",
        "loja_2 = pd.read_csv(path_2)\n",
        "loja_3 = pd.read_csv(path_3)\n",
        "loja_4 = pd.read_csv(path_4)\n",
        "\n",
        "lista_lojas = [loja_1, loja_2, loja_3, loja_4]\n",
        "nomes_lojas = ['Loja 1', 'Loja 2', 'Loja 3', 'Loja 4']\n",
        "\n",
        "for nome, loja in zip(nomes_lojas, lista_lojas):\n",
        "    loja['Loja'] = nome\n",
        "\n",
        "dataset_consolidado = pd.concat(lista_lojas)\n",
        "dataset_consolidado"
      ]
    },
    {
      "cell_type": "markdown",
      "metadata": {
        "id": "X62IW3KFUIYm"
      },
      "source": [
        "# 1. Análise do faturamento\n"
      ]
    },
    {
      "cell_type": "code",
      "execution_count": 32,
      "metadata": {
        "id": "xykobSftV64I"
      },
      "outputs": [
        {
          "data": {
            "image/png": "[encoded data removed]",
            "text/plain": [
              "<Figure size 800x500 with 1 Axes>"
            ]
          },
          "metadata": {},
          "output_type": "display_data"
        },
        {
          "data": {
            "application/vnd.microsoft.datawrangler.viewer.v0+json": {
              "columns": [
                {
                  "name": "index",
                  "rawType": "int64",
                  "type": "integer"
                },
                {
                  "name": "Loja",
                  "rawType": "object",
                  "type": "string"
                },
                {
                  "name": "Faturamento",
                  "rawType": "float64",
                  "type": "float"
                }
              ],
              "conversionMethod": "pd.DataFrame",
              "ref": "ce48aeec-ccef-4dea-a00c-4018388f0827",
              "rows": [
                [
                  "0",
                  "Loja 1",
                  "1534509.12"
                ],
                [
                  "1",
                  "Loja 2",
                  "1488459.06"
                ],
                [
                  "2",
                  "Loja 3",
                  "1464025.03"
                ],
                [
                  "3",
                  "Loja 4",
                  "1384497.58"
                ]
              ],
              "shape": {
                "columns": 2,
                "rows": 4
              }
            },
            "text/html": [
              "<div>\n",
              "<style scoped>\n",
              "    .dataframe tbody tr th:only-of-type {\n",
              "        vertical-align: middle;\n",
              "    }\n",
              "\n",
              "    .dataframe tbody tr th {\n",
              "        vertical-align: top;\n",
              "    }\n",
              "\n",
              "    .dataframe thead th {\n",
              "        text-align: right;\n",
              "    }\n",
              "</style>\n",
              "<table border=\"1\" class=\"dataframe\">\n",
              "  <thead>\n",
              "    <tr style=\"text-align: right;\">\n",
              "      <th></th>\n",
              "      <th>Loja</th>\n",
              "      <th>Faturamento</th>\n",
              "    </tr>\n",
              "  </thead>\n",
              "  <tbody>\n",
              "    <tr>\n",
              "      <th>0</th>\n",
              "      <td>Loja 1</td>\n",
              "      <td>1534509.12</td>\n",
              "    </tr>\n",
              "    <tr>\n",
              "      <th>1</th>\n",
              "      <td>Loja 2</td>\n",
              "      <td>1488459.06</td>\n",
              "    </tr>\n",
              "    <tr>\n",
              "      <th>2</th>\n",
              "      <td>Loja 3</td>\n",
              "      <td>1464025.03</td>\n",
              "    </tr>\n",
              "    <tr>\n",
              "      <th>3</th>\n",
              "      <td>Loja 4</td>\n",
              "      <td>1384497.58</td>\n",
              "    </tr>\n",
              "  </tbody>\n",
              "</table>\n",
              "</div>"
            ],
            "text/plain": [
              "     Loja  Faturamento\n",
              "0  Loja 1   1534509.12\n",
              "1  Loja 2   1488459.06\n",
              "2  Loja 3   1464025.03\n",
              "3  Loja 4   1384497.58"
            ]
          },
          "execution_count": 32,
          "metadata": {},
          "output_type": "execute_result"
        }
      ],
      "source": [
        "lista_lojas = [loja_1, loja_2, loja_3, loja_4]\n",
        "nomes_lojas = ['Loja 1', 'Loja 2', 'Loja 3', 'Loja 4']\n",
        "\n",
        "faturamento_lojas = pd.DataFrame(columns=['Loja', 'Faturamento'])\n",
        "\n",
        "for nome, loja in zip(nomes_lojas, lista_lojas):\n",
        "    faturamento = round(loja['Preço'].sum(), 2)\n",
        "    df_aux = pd.DataFrame({'Loja': [nome], 'Faturamento': [faturamento]})\n",
        "\n",
        "    if faturamento_lojas.empty:\n",
        "        faturamento_lojas = df_aux\n",
        "    else:\n",
        "        faturamento_lojas = pd.concat([faturamento_lojas, df_aux], ignore_index=True)\n",
        "\n",
        "plt.figure(figsize=(8, 5))\n",
        "plt.bar(\n",
        "    x = faturamento_lojas['Loja'],\n",
        "    height = faturamento_lojas['Faturamento']\n",
        ")\n",
        "\n",
        "plt.show()\n",
        "faturamento_lojas"
      ]
    },
    {
      "cell_type": "code",
      "execution_count": 9,
      "metadata": {},
      "outputs": [
        {
          "data": {
            "text/plain": [
              "Tipo de pagamento\n",
              "cartao_credito    6898\n",
              "boleto            1900\n",
              "cupom              504\n",
              "cartao_debito      133\n",
              "Name: count, dtype: int64"
            ]
          },
          "execution_count": 9,
          "metadata": {},
          "output_type": "execute_result"
        }
      ],
      "source": [
        "dataset_consolidado['Tipo de pagamento'].value_counts()"
      ]
    },
    {
      "cell_type": "code",
      "execution_count": 23,
      "metadata": {},
      "outputs": [
        {
          "data": {
            "image/png": "[encoded data removed]",
            "text/plain": [
              "<Figure size 1200x600 with 1 Axes>"
            ]
          },
          "metadata": {},
          "output_type": "display_data"
        }
      ],
      "source": [
        "lista_lojas = [loja_1, loja_2, loja_3, loja_4]\n",
        "nomes_lojas = ['Loja 1', 'Loja 2', 'Loja 3', 'Loja 4']\n",
        "\n",
        "for nome, loja in zip(nomes_lojas, lista_lojas):\n",
        "    loja['Loja'] = nome\n",
        "\n",
        "dataset_consolidado = pd.concat(lista_lojas)\n",
        "\n",
        "venda_tempo['Trimestre'] = venda_tempo['Data da Compra'].dt.to_period('Q').dt.to_timestamp()\n",
        "venda_trimestral = venda_tempo.groupby(['Loja', 'Trimestre'])['Preço'].sum().reset_index()\n",
        "venda_trimestral = venda_trimestral.sort_values(by=['Loja', 'Trimestre'])\n",
        "\n",
        "plt.figure(figsize=(12, 6))\n",
        "\n",
        "for loja in venda_trimestral['Loja'].unique():\n",
        "    dados_loja = venda_trimestral[venda_trimestral['Loja'] == loja]\n",
        "    plt.plot(dados_loja['Trimestre'], dados_loja['Preço'], label=loja)\n",
        "\n",
        "plt.title('Faturamento Trimestral por Loja')\n",
        "plt.xlabel('Trimestre')\n",
        "plt.ylabel('Preço Total Vendido')\n",
        "plt.legend(title='Loja')\n",
        "plt.grid(True)\n",
        "\n",
        "plt.tight_layout()\n",
        "plt.show()\n",
        "plt.show()"
      ]
    },
    {
      "cell_type": "markdown",
      "metadata": {
        "id": "2V_vcAPzWZmR"
      },
      "source": [
        "# 2. Vendas por Categoria\n"
      ]
    },
    {
      "cell_type": "code",
      "execution_count": 35,
      "metadata": {
        "id": "A34YupIuYhfF"
      },
      "outputs": [
        {
          "data": {
            "application/vnd.microsoft.datawrangler.viewer.v0+json": {
              "columns": [
                {
                  "name": "index",
                  "rawType": "int64",
                  "type": "integer"
                },
                {
                  "name": "Loja",
                  "rawType": "object",
                  "type": "string"
                },
                {
                  "name": "Categoria do Produto",
                  "rawType": "object",
                  "type": "string"
                },
                {
                  "name": "Preço",
                  "rawType": "float64",
                  "type": "float"
                }
              ],
              "conversionMethod": "pd.DataFrame",
              "ref": "0c4f03e4-20bd-4684-ad0c-b681671b1870",
              "rows": [
                [
                  "0",
                  "Loja 1",
                  "brinquedos",
                  "23993.78"
                ],
                [
                  "1",
                  "Loja 1",
                  "eletrodomesticos",
                  "484913.36"
                ],
                [
                  "2",
                  "Loja 1",
                  "eletronicos",
                  "572659.23"
                ],
                [
                  "3",
                  "Loja 1",
                  "esporte e lazer",
                  "52387.55"
                ],
                [
                  "4",
                  "Loja 1",
                  "instrumentos musicais",
                  "121731.69"
                ],
                [
                  "5",
                  "Loja 1",
                  "livros",
                  "11713.92"
                ],
                [
                  "6",
                  "Loja 1",
                  "moveis",
                  "250178.11000000002"
                ],
                [
                  "7",
                  "Loja 1",
                  "utilidades domesticas",
                  "16931.48"
                ],
                [
                  "8",
                  "Loja 2",
                  "brinquedos",
                  "21262.21"
                ],
                [
                  "9",
                  "Loja 2",
                  "eletrodomesticos",
                  "464758.13"
                ],
                [
                  "10",
                  "Loja 2",
                  "eletronicos",
                  "547773.71"
                ],
                [
                  "11",
                  "Loja 2",
                  "esporte e lazer",
                  "46326.09"
                ],
                [
                  "12",
                  "Loja 2",
                  "instrumentos musicais",
                  "139987.03"
                ],
                [
                  "13",
                  "Loja 2",
                  "livros",
                  "13454.35"
                ],
                [
                  "14",
                  "Loja 2",
                  "moveis",
                  "235234.68"
                ],
                [
                  "15",
                  "Loja 2",
                  "utilidades domesticas",
                  "19662.86"
                ],
                [
                  "16",
                  "Loja 3",
                  "brinquedos",
                  "25869.2"
                ],
                [
                  "17",
                  "Loja 3",
                  "eletrodomesticos",
                  "438984.89"
                ],
                [
                  "18",
                  "Loja 3",
                  "eletronicos",
                  "547699.92"
                ],
                [
                  "19",
                  "Loja 3",
                  "esporte e lazer",
                  "47456.1"
                ],
                [
                  "20",
                  "Loja 3",
                  "instrumentos musicais",
                  "103174.45"
                ],
                [
                  "21",
                  "Loja 3",
                  "livros",
                  "12664.7"
                ],
                [
                  "22",
                  "Loja 3",
                  "moveis",
                  "268095.56"
                ],
                [
                  "23",
                  "Loja 3",
                  "utilidades domesticas",
                  "20080.21"
                ],
                [
                  "24",
                  "Loja 4",
                  "brinquedos",
                  "27015.67"
                ],
                [
                  "25",
                  "Loja 4",
                  "eletrodomesticos",
                  "377680.65"
                ],
                [
                  "26",
                  "Loja 4",
                  "eletronicos",
                  "545966.86"
                ],
                [
                  "27",
                  "Loja 4",
                  "esporte e lazer",
                  "44465.65"
                ],
                [
                  "28",
                  "Loja 4",
                  "instrumentos musicais",
                  "100136.5"
                ],
                [
                  "29",
                  "Loja 4",
                  "livros",
                  "12427.77"
                ],
                [
                  "30",
                  "Loja 4",
                  "moveis",
                  "256705.65"
                ],
                [
                  "31",
                  "Loja 4",
                  "utilidades domesticas",
                  "20098.83"
                ]
              ],
              "shape": {
                "columns": 3,
                "rows": 32
              }
            },
            "text/html": [
              "<div>\n",
              "<style scoped>\n",
              "    .dataframe tbody tr th:only-of-type {\n",
              "        vertical-align: middle;\n",
              "    }\n",
              "\n",
              "    .dataframe tbody tr th {\n",
              "        vertical-align: top;\n",
              "    }\n",
              "\n",
              "    .dataframe thead th {\n",
              "        text-align: right;\n",
              "    }\n",
              "</style>\n",
              "<table border=\"1\" class=\"dataframe\">\n",
              "  <thead>\n",
              "    <tr style=\"text-align: right;\">\n",
              "      <th></th>\n",
              "      <th>Loja</th>\n",
              "      <th>Categoria do Produto</th>\n",
              "      <th>Preço</th>\n",
              "    </tr>\n",
              "  </thead>\n",
              "  <tbody>\n",
              "    <tr>\n",
              "      <th>0</th>\n",
              "      <td>Loja 1</td>\n",
              "      <td>brinquedos</td>\n",
              "      <td>23993.78</td>\n",
              "    </tr>\n",
              "    <tr>\n",
              "      <th>1</th>\n",
              "      <td>Loja 1</td>\n",
              "      <td>eletrodomesticos</td>\n",
              "      <td>484913.36</td>\n",
              "    </tr>\n",
              "    <tr>\n",
              "      <th>2</th>\n",
              "      <td>Loja 1</td>\n",
              "      <td>eletronicos</td>\n",
              "      <td>572659.23</td>\n",
              "    </tr>\n",
              "    <tr>\n",
              "      <th>3</th>\n",
              "      <td>Loja 1</td>\n",
              "      <td>esporte e lazer</td>\n",
              "      <td>52387.55</td>\n",
              "    </tr>\n",
              "    <tr>\n",
              "      <th>4</th>\n",
              "      <td>Loja 1</td>\n",
              "      <td>instrumentos musicais</td>\n",
              "      <td>121731.69</td>\n",
              "    </tr>\n",
              "    <tr>\n",
              "      <th>5</th>\n",
              "      <td>Loja 1</td>\n",
              "      <td>livros</td>\n",
              "      <td>11713.92</td>\n",
              "    </tr>\n",
              "    <tr>\n",
              "      <th>6</th>\n",
              "      <td>Loja 1</td>\n",
              "      <td>moveis</td>\n",
              "      <td>250178.11</td>\n",
              "    </tr>\n",
              "    <tr>\n",
              "      <th>7</th>\n",
              "      <td>Loja 1</td>\n",
              "      <td>utilidades domesticas</td>\n",
              "      <td>16931.48</td>\n",
              "    </tr>\n",
              "    <tr>\n",
              "      <th>8</th>\n",
              "      <td>Loja 2</td>\n",
              "      <td>brinquedos</td>\n",
              "      <td>21262.21</td>\n",
              "    </tr>\n",
              "    <tr>\n",
              "      <th>9</th>\n",
              "      <td>Loja 2</td>\n",
              "      <td>eletrodomesticos</td>\n",
              "      <td>464758.13</td>\n",
              "    </tr>\n",
              "    <tr>\n",
              "      <th>10</th>\n",
              "      <td>Loja 2</td>\n",
              "      <td>eletronicos</td>\n",
              "      <td>547773.71</td>\n",
              "    </tr>\n",
              "    <tr>\n",
              "      <th>11</th>\n",
              "      <td>Loja 2</td>\n",
              "      <td>esporte e lazer</td>\n",
              "      <td>46326.09</td>\n",
              "    </tr>\n",
              "    <tr>\n",
              "      <th>12</th>\n",
              "      <td>Loja 2</td>\n",
              "      <td>instrumentos musicais</td>\n",
              "      <td>139987.03</td>\n",
              "    </tr>\n",
              "    <tr>\n",
              "      <th>13</th>\n",
              "      <td>Loja 2</td>\n",
              "      <td>livros</td>\n",
              "      <td>13454.35</td>\n",
              "    </tr>\n",
              "    <tr>\n",
              "      <th>14</th>\n",
              "      <td>Loja 2</td>\n",
              "      <td>moveis</td>\n",
              "      <td>235234.68</td>\n",
              "    </tr>\n",
              "    <tr>\n",
              "      <th>15</th>\n",
              "      <td>Loja 2</td>\n",
              "      <td>utilidades domesticas</td>\n",
              "      <td>19662.86</td>\n",
              "    </tr>\n",
              "    <tr>\n",
              "      <th>16</th>\n",
              "      <td>Loja 3</td>\n",
              "      <td>brinquedos</td>\n",
              "      <td>25869.20</td>\n",
              "    </tr>\n",
              "    <tr>\n",
              "      <th>17</th>\n",
              "      <td>Loja 3</td>\n",
              "      <td>eletrodomesticos</td>\n",
              "      <td>438984.89</td>\n",
              "    </tr>\n",
              "    <tr>\n",
              "      <th>18</th>\n",
              "      <td>Loja 3</td>\n",
              "      <td>eletronicos</td>\n",
              "      <td>547699.92</td>\n",
              "    </tr>\n",
              "    <tr>\n",
              "      <th>19</th>\n",
              "      <td>Loja 3</td>\n",
              "      <td>esporte e lazer</td>\n",
              "      <td>47456.10</td>\n",
              "    </tr>\n",
              "    <tr>\n",
              "      <th>20</th>\n",
              "      <td>Loja 3</td>\n",
              "      <td>instrumentos musicais</td>\n",
              "      <td>103174.45</td>\n",
              "    </tr>\n",
              "    <tr>\n",
              "      <th>21</th>\n",
              "      <td>Loja 3</td>\n",
              "      <td>livros</td>\n",
              "      <td>12664.70</td>\n",
              "    </tr>\n",
              "    <tr>\n",
              "      <th>22</th>\n",
              "      <td>Loja 3</td>\n",
              "      <td>moveis</td>\n",
              "      <td>268095.56</td>\n",
              "    </tr>\n",
              "    <tr>\n",
              "      <th>23</th>\n",
              "      <td>Loja 3</td>\n",
              "      <td>utilidades domesticas</td>\n",
              "      <td>20080.21</td>\n",
              "    </tr>\n",
              "    <tr>\n",
              "      <th>24</th>\n",
              "      <td>Loja 4</td>\n",
              "      <td>brinquedos</td>\n",
              "      <td>27015.67</td>\n",
              "    </tr>\n",
              "    <tr>\n",
              "      <th>25</th>\n",
              "      <td>Loja 4</td>\n",
              "      <td>eletrodomesticos</td>\n",
              "      <td>377680.65</td>\n",
              "    </tr>\n",
              "    <tr>\n",
              "      <th>26</th>\n",
              "      <td>Loja 4</td>\n",
              "      <td>eletronicos</td>\n",
              "      <td>545966.86</td>\n",
              "    </tr>\n",
              "    <tr>\n",
              "      <th>27</th>\n",
              "      <td>Loja 4</td>\n",
              "      <td>esporte e lazer</td>\n",
              "      <td>44465.65</td>\n",
              "    </tr>\n",
              "    <tr>\n",
              "      <th>28</th>\n",
              "      <td>Loja 4</td>\n",
              "      <td>instrumentos musicais</td>\n",
              "      <td>100136.50</td>\n",
              "    </tr>\n",
              "    <tr>\n",
              "      <th>29</th>\n",
              "      <td>Loja 4</td>\n",
              "      <td>livros</td>\n",
              "      <td>12427.77</td>\n",
              "    </tr>\n",
              "    <tr>\n",
              "      <th>30</th>\n",
              "      <td>Loja 4</td>\n",
              "      <td>moveis</td>\n",
              "      <td>256705.65</td>\n",
              "    </tr>\n",
              "    <tr>\n",
              "      <th>31</th>\n",
              "      <td>Loja 4</td>\n",
              "      <td>utilidades domesticas</td>\n",
              "      <td>20098.83</td>\n",
              "    </tr>\n",
              "  </tbody>\n",
              "</table>\n",
              "</div>"
            ],
            "text/plain": [
              "      Loja   Categoria do Produto      Preço\n",
              "0   Loja 1             brinquedos   23993.78\n",
              "1   Loja 1       eletrodomesticos  484913.36\n",
              "2   Loja 1            eletronicos  572659.23\n",
              "3   Loja 1        esporte e lazer   52387.55\n",
              "4   Loja 1  instrumentos musicais  121731.69\n",
              "5   Loja 1                 livros   11713.92\n",
              "6   Loja 1                 moveis  250178.11\n",
              "7   Loja 1  utilidades domesticas   16931.48\n",
              "8   Loja 2             brinquedos   21262.21\n",
              "9   Loja 2       eletrodomesticos  464758.13\n",
              "10  Loja 2            eletronicos  547773.71\n",
              "11  Loja 2        esporte e lazer   46326.09\n",
              "12  Loja 2  instrumentos musicais  139987.03\n",
              "13  Loja 2                 livros   13454.35\n",
              "14  Loja 2                 moveis  235234.68\n",
              "15  Loja 2  utilidades domesticas   19662.86\n",
              "16  Loja 3             brinquedos   25869.20\n",
              "17  Loja 3       eletrodomesticos  438984.89\n",
              "18  Loja 3            eletronicos  547699.92\n",
              "19  Loja 3        esporte e lazer   47456.10\n",
              "20  Loja 3  instrumentos musicais  103174.45\n",
              "21  Loja 3                 livros   12664.70\n",
              "22  Loja 3                 moveis  268095.56\n",
              "23  Loja 3  utilidades domesticas   20080.21\n",
              "24  Loja 4             brinquedos   27015.67\n",
              "25  Loja 4       eletrodomesticos  377680.65\n",
              "26  Loja 4            eletronicos  545966.86\n",
              "27  Loja 4        esporte e lazer   44465.65\n",
              "28  Loja 4  instrumentos musicais  100136.50\n",
              "29  Loja 4                 livros   12427.77\n",
              "30  Loja 4                 moveis  256705.65\n",
              "31  Loja 4  utilidades domesticas   20098.83"
            ]
          },
          "execution_count": 35,
          "metadata": {},
          "output_type": "execute_result"
        }
      ],
      "source": [
        "lista_lojas = [loja_1, loja_2, loja_3, loja_4]\n",
        "nomes_lojas = ['Loja 1', 'Loja 2', 'Loja 3', 'Loja 4']\n",
        "\n",
        "for nome, loja in zip(nomes_lojas, lista_lojas):\n",
        "    loja['Loja'] = nome\n",
        "\n",
        "dataset_consolidado = pd.concat(lista_lojas)\n",
        "\n",
        "vendas_categoria = dataset_consolidado.groupby(['Loja', 'Categoria do Produto'])['Preço'].sum().reset_index()\n",
        "vendas_categoria"
      ]
    },
    {
      "cell_type": "code",
      "execution_count": 44,
      "metadata": {
        "id": "yZR6cOjXYSk1"
      },
      "outputs": [
        {
          "data": {
            "application/vnd.microsoft.datawrangler.viewer.v0+json": {
              "columns": [
                {
                  "name": "Loja",
                  "rawType": "object",
                  "type": "string"
                },
                {
                  "name": "eletrodomesticos",
                  "rawType": "float64",
                  "type": "float"
                },
                {
                  "name": "eletronicos",
                  "rawType": "float64",
                  "type": "float"
                },
                {
                  "name": "moveis",
                  "rawType": "float64",
                  "type": "float"
                }
              ],
              "conversionMethod": "pd.DataFrame",
              "ref": "bf875b43-2d85-403f-8b8d-72edd5e1712c",
              "rows": [
                [
                  "Loja 1",
                  "484913.36",
                  "572659.23",
                  "250178.11"
                ],
                [
                  "Loja 2",
                  "464758.13",
                  "547773.71",
                  "235234.68"
                ],
                [
                  "Loja 3",
                  "438984.89",
                  "547699.92",
                  "268095.56"
                ],
                [
                  "Loja 4",
                  "377680.65",
                  "545966.86",
                  "256705.65"
                ]
              ],
              "shape": {
                "columns": 3,
                "rows": 4
              }
            },
            "text/html": [
              "<div>\n",
              "<style scoped>\n",
              "    .dataframe tbody tr th:only-of-type {\n",
              "        vertical-align: middle;\n",
              "    }\n",
              "\n",
              "    .dataframe tbody tr th {\n",
              "        vertical-align: top;\n",
              "    }\n",
              "\n",
              "    .dataframe thead th {\n",
              "        text-align: right;\n",
              "    }\n",
              "</style>\n",
              "<table border=\"1\" class=\"dataframe\">\n",
              "  <thead>\n",
              "    <tr style=\"text-align: right;\">\n",
              "      <th>Categoria do Produto</th>\n",
              "      <th>eletrodomesticos</th>\n",
              "      <th>eletronicos</th>\n",
              "      <th>moveis</th>\n",
              "    </tr>\n",
              "    <tr>\n",
              "      <th>Loja</th>\n",
              "      <th></th>\n",
              "      <th></th>\n",
              "      <th></th>\n",
              "    </tr>\n",
              "  </thead>\n",
              "  <tbody>\n",
              "    <tr>\n",
              "      <th>Loja 1</th>\n",
              "      <td>484913.36</td>\n",
              "      <td>572659.23</td>\n",
              "      <td>250178.11</td>\n",
              "    </tr>\n",
              "    <tr>\n",
              "      <th>Loja 2</th>\n",
              "      <td>464758.13</td>\n",
              "      <td>547773.71</td>\n",
              "      <td>235234.68</td>\n",
              "    </tr>\n",
              "    <tr>\n",
              "      <th>Loja 3</th>\n",
              "      <td>438984.89</td>\n",
              "      <td>547699.92</td>\n",
              "      <td>268095.56</td>\n",
              "    </tr>\n",
              "    <tr>\n",
              "      <th>Loja 4</th>\n",
              "      <td>377680.65</td>\n",
              "      <td>545966.86</td>\n",
              "      <td>256705.65</td>\n",
              "    </tr>\n",
              "  </tbody>\n",
              "</table>\n",
              "</div>"
            ],
            "text/plain": [
              "Categoria do Produto  eletrodomesticos  eletronicos     moveis\n",
              "Loja                                                          \n",
              "Loja 1                       484913.36    572659.23  250178.11\n",
              "Loja 2                       464758.13    547773.71  235234.68\n",
              "Loja 3                       438984.89    547699.92  268095.56\n",
              "Loja 4                       377680.65    545966.86  256705.65"
            ]
          },
          "execution_count": 44,
          "metadata": {},
          "output_type": "execute_result"
        }
      ],
      "source": [
        "lojas = vendas_categoria['Loja'].unique().tolist()\n",
        "\n",
        "acima_media = pd.DataFrame()\n",
        "\n",
        "for loja in lojas:\n",
        "    df_aux = vendas_categoria.query('Loja == @loja')\n",
        "    media = df_aux['Preço'].mean()\n",
        "    categorias_acima_media = df_aux.query('Preço > @media').sort_values('Preço', ascending=False).round(2)\n",
        "\n",
        "    if acima_media.empty:\n",
        "        acima_media = categorias_acima_media\n",
        "    else:\n",
        "        acima_media = pd.concat([acima_media, categorias_acima_media], ignore_index=True)\n",
        "\n",
        "acima_media = acima_media.pivot(\n",
        "    columns = 'Categoria do Produto',\n",
        "    index = 'Loja',\n",
        "    values = 'Preço'\n",
        ")\n",
        "\n",
        "acima_media"
      ]
    },
    {
      "cell_type": "markdown",
      "metadata": {
        "id": "Rq6tU_xSY3jk"
      },
      "source": [
        "# 3. Média de Avaliação das Lojas"
      ]
    },
    {
      "cell_type": "code",
      "execution_count": null,
      "metadata": {
        "id": "bh3jjjJwY5MU"
      },
      "outputs": [
        {
          "data": {
            "application/vnd.microsoft.datawrangler.viewer.v0+json": {
              "columns": [
                {
                  "name": "index",
                  "rawType": "int64",
                  "type": "integer"
                },
                {
                  "name": "Loja",
                  "rawType": "object",
                  "type": "string"
                },
                {
                  "name": "Avaliação da compra",
                  "rawType": "float64",
                  "type": "float"
                }
              ],
              "conversionMethod": "pd.DataFrame",
              "ref": "a9f8714b-1aed-4692-8c05-b3cee380c8c0",
              "rows": [
                [
                  "0",
                  "Loja 1",
                  "3.98"
                ],
                [
                  "1",
                  "Loja 2",
                  "4.04"
                ],
                [
                  "2",
                  "Loja 3",
                  "4.05"
                ],
                [
                  "3",
                  "Loja 4",
                  "4.0"
                ]
              ],
              "shape": {
                "columns": 2,
                "rows": 4
              }
            },
            "text/html": [
              "<div>\n",
              "<style scoped>\n",
              "    .dataframe tbody tr th:only-of-type {\n",
              "        vertical-align: middle;\n",
              "    }\n",
              "\n",
              "    .dataframe tbody tr th {\n",
              "        vertical-align: top;\n",
              "    }\n",
              "\n",
              "    .dataframe thead th {\n",
              "        text-align: right;\n",
              "    }\n",
              "</style>\n",
              "<table border=\"1\" class=\"dataframe\">\n",
              "  <thead>\n",
              "    <tr style=\"text-align: right;\">\n",
              "      <th></th>\n",
              "      <th>Loja</th>\n",
              "      <th>Avaliação da compra</th>\n",
              "    </tr>\n",
              "  </thead>\n",
              "  <tbody>\n",
              "    <tr>\n",
              "      <th>0</th>\n",
              "      <td>Loja 1</td>\n",
              "      <td>3.98</td>\n",
              "    </tr>\n",
              "    <tr>\n",
              "      <th>1</th>\n",
              "      <td>Loja 2</td>\n",
              "      <td>4.04</td>\n",
              "    </tr>\n",
              "    <tr>\n",
              "      <th>2</th>\n",
              "      <td>Loja 3</td>\n",
              "      <td>4.05</td>\n",
              "    </tr>\n",
              "    <tr>\n",
              "      <th>3</th>\n",
              "      <td>Loja 4</td>\n",
              "      <td>4.00</td>\n",
              "    </tr>\n",
              "  </tbody>\n",
              "</table>\n",
              "</div>"
            ],
            "text/plain": [
              "     Loja  Avaliação da compra\n",
              "0  Loja 1                 3.98\n",
              "1  Loja 2                 4.04\n",
              "2  Loja 3                 4.05\n",
              "3  Loja 4                 4.00"
            ]
          },
          "execution_count": 46,
          "metadata": {},
          "output_type": "execute_result"
        }
      ],
      "source": [
        "lista_lojas = [loja_1, loja_2, loja_3, loja_4]\n",
        "nomes_lojas = ['Loja 1', 'Loja 2', 'Loja 3', 'Loja 4']\n",
        "\n",
        "for nome, loja in zip(nomes_lojas, lista_lojas):\n",
        "    loja['Loja'] = nome\n",
        "\n",
        "dataset_consolidado = pd.concat(lista_lojas)\n",
        "\n",
        "media_lojas = dataset_consolidado.groupby(['Loja'])['Avaliação da compra'].mean().reset_index().round(2)\n",
        "media_lojas"
      ]
    },
    {
      "cell_type": "code",
      "execution_count": null,
      "metadata": {},
      "outputs": [
        {
          "data": {
            "image/png": "[encoded data removed]",
            "text/plain": [
              "<Figure size 1000x600 with 1 Axes>"
            ]
          },
          "metadata": {},
          "output_type": "display_data"
        }
      ],
      "source": [
        "dataset_consolidado.boxplot(column='Avaliação da compra', by='Loja', figsize=(10, 6))\n",
        "plt.title('Distribuição das Avaliações por Loja')\n",
        "plt.suptitle('')\n",
        "plt.xlabel('Loja')\n",
        "plt.ylabel('Avaliação da compra')\n",
        "plt.grid(True)\n",
        "plt.show()\n"
      ]
    },
    {
      "cell_type": "markdown",
      "metadata": {
        "id": "DmNp1KPBZCm-"
      },
      "source": [
        "# 4. Produtos Mais e Menos Vendidos"
      ]
    },
    {
      "cell_type": "code",
      "execution_count": 66,
      "metadata": {
        "id": "qoyjqijQZHfF"
      },
      "outputs": [
        {
          "data": {
            "application/vnd.microsoft.datawrangler.viewer.v0+json": {
              "columns": [
                {
                  "name": "index",
                  "rawType": "int64",
                  "type": "integer"
                },
                {
                  "name": "Loja",
                  "rawType": "object",
                  "type": "string"
                },
                {
                  "name": "Produto",
                  "rawType": "object",
                  "type": "string"
                },
                {
                  "name": "Quantidade",
                  "rawType": "int64",
                  "type": "integer"
                }
              ],
              "conversionMethod": "pd.DataFrame",
              "ref": "9a1e0843-c30d-4c5b-942a-0b69a4086640",
              "rows": [
                [
                  "0",
                  "Loja 1",
                  "Assistente virtual",
                  "40"
                ],
                [
                  "1",
                  "Loja 1",
                  "Bateria",
                  "53"
                ],
                [
                  "2",
                  "Loja 1",
                  "Bicicleta",
                  "54"
                ],
                [
                  "3",
                  "Loja 1",
                  "Blocos de montar",
                  "56"
                ],
                [
                  "4",
                  "Loja 1",
                  "Bola de basquete",
                  "55"
                ],
                [
                  "5",
                  "Loja 1",
                  "Bola de vôlei",
                  "42"
                ],
                [
                  "6",
                  "Loja 1",
                  "Boneca bebê",
                  "40"
                ],
                [
                  "7",
                  "Loja 1",
                  "Cadeira de escritório",
                  "46"
                ],
                [
                  "8",
                  "Loja 1",
                  "Cama box",
                  "44"
                ],
                [
                  "9",
                  "Loja 1",
                  "Cama king",
                  "44"
                ],
                [
                  "10",
                  "Loja 1",
                  "Carrinho controle remoto",
                  "52"
                ],
                [
                  "11",
                  "Loja 1",
                  "Celular ABXY",
                  "33"
                ],
                [
                  "12",
                  "Loja 1",
                  "Celular Plus X42",
                  "49"
                ],
                [
                  "13",
                  "Loja 1",
                  "Ciência de dados com python",
                  "39"
                ],
                [
                  "14",
                  "Loja 1",
                  "Copo térmico",
                  "54"
                ],
                [
                  "15",
                  "Loja 1",
                  "Corda de pular",
                  "40"
                ],
                [
                  "16",
                  "Loja 1",
                  "Cubo mágico 8x8",
                  "44"
                ],
                [
                  "17",
                  "Loja 1",
                  "Cômoda",
                  "56"
                ],
                [
                  "18",
                  "Loja 1",
                  "Dashboards com Power BI",
                  "42"
                ],
                [
                  "19",
                  "Loja 1",
                  "Dinossauro Rex",
                  "40"
                ],
                [
                  "20",
                  "Loja 1",
                  "Faqueiro",
                  "52"
                ],
                [
                  "21",
                  "Loja 1",
                  "Fogão",
                  "45"
                ],
                [
                  "22",
                  "Loja 1",
                  "Fone de ouvido",
                  "50"
                ],
                [
                  "23",
                  "Loja 1",
                  "Geladeira",
                  "54"
                ],
                [
                  "24",
                  "Loja 1",
                  "Guarda roupas",
                  "60"
                ],
                [
                  "25",
                  "Loja 1",
                  "Guitarra",
                  "47"
                ],
                [
                  "26",
                  "Loja 1",
                  "Headset",
                  "33"
                ],
                [
                  "27",
                  "Loja 1",
                  "Impressora",
                  "54"
                ],
                [
                  "28",
                  "Loja 1",
                  "Iniciando em programação",
                  "41"
                ],
                [
                  "29",
                  "Loja 1",
                  "Jogo de copos",
                  "41"
                ],
                [
                  "30",
                  "Loja 1",
                  "Jogo de panelas",
                  "43"
                ],
                [
                  "31",
                  "Loja 1",
                  "Jogo de tabuleiro",
                  "43"
                ],
                [
                  "32",
                  "Loja 1",
                  "Kit banquetas",
                  "44"
                ],
                [
                  "33",
                  "Loja 1",
                  "Lava louças",
                  "48"
                ],
                [
                  "34",
                  "Loja 1",
                  "Lavadora de roupas",
                  "47"
                ],
                [
                  "35",
                  "Loja 1",
                  "Mesa de centro",
                  "44"
                ],
                [
                  "36",
                  "Loja 1",
                  "Mesa de jantar",
                  "40"
                ],
                [
                  "37",
                  "Loja 1",
                  "Micro-ondas",
                  "60"
                ],
                [
                  "38",
                  "Loja 1",
                  "Mochila",
                  "39"
                ],
                [
                  "39",
                  "Loja 1",
                  "Modelagem preditiva",
                  "51"
                ],
                [
                  "40",
                  "Loja 1",
                  "Pandeiro",
                  "36"
                ],
                [
                  "41",
                  "Loja 1",
                  "Panela de pressão",
                  "35"
                ],
                [
                  "42",
                  "Loja 1",
                  "Poltrona",
                  "41"
                ],
                [
                  "43",
                  "Loja 1",
                  "Secadora de roupas",
                  "58"
                ],
                [
                  "44",
                  "Loja 1",
                  "Smart TV",
                  "44"
                ],
                [
                  "45",
                  "Loja 1",
                  "Smartwatch",
                  "43"
                ],
                [
                  "46",
                  "Loja 1",
                  "Sofá retrátil",
                  "46"
                ],
                [
                  "47",
                  "Loja 1",
                  "TV Led UHD 4K",
                  "60"
                ],
                [
                  "48",
                  "Loja 1",
                  "Tablet ABXY",
                  "42"
                ],
                [
                  "49",
                  "Loja 1",
                  "Violão",
                  "46"
                ]
              ],
              "shape": {
                "columns": 3,
                "rows": 204
              }
            },
            "text/html": [
              "<div>\n",
              "<style scoped>\n",
              "    .dataframe tbody tr th:only-of-type {\n",
              "        vertical-align: middle;\n",
              "    }\n",
              "\n",
              "    .dataframe tbody tr th {\n",
              "        vertical-align: top;\n",
              "    }\n",
              "\n",
              "    .dataframe thead th {\n",
              "        text-align: right;\n",
              "    }\n",
              "</style>\n",
              "<table border=\"1\" class=\"dataframe\">\n",
              "  <thead>\n",
              "    <tr style=\"text-align: right;\">\n",
              "      <th></th>\n",
              "      <th>Loja</th>\n",
              "      <th>Produto</th>\n",
              "      <th>Quantidade</th>\n",
              "    </tr>\n",
              "  </thead>\n",
              "  <tbody>\n",
              "    <tr>\n",
              "      <th>0</th>\n",
              "      <td>Loja 1</td>\n",
              "      <td>Assistente virtual</td>\n",
              "      <td>40</td>\n",
              "    </tr>\n",
              "    <tr>\n",
              "      <th>1</th>\n",
              "      <td>Loja 1</td>\n",
              "      <td>Bateria</td>\n",
              "      <td>53</td>\n",
              "    </tr>\n",
              "    <tr>\n",
              "      <th>2</th>\n",
              "      <td>Loja 1</td>\n",
              "      <td>Bicicleta</td>\n",
              "      <td>54</td>\n",
              "    </tr>\n",
              "    <tr>\n",
              "      <th>3</th>\n",
              "      <td>Loja 1</td>\n",
              "      <td>Blocos de montar</td>\n",
              "      <td>56</td>\n",
              "    </tr>\n",
              "    <tr>\n",
              "      <th>4</th>\n",
              "      <td>Loja 1</td>\n",
              "      <td>Bola de basquete</td>\n",
              "      <td>55</td>\n",
              "    </tr>\n",
              "    <tr>\n",
              "      <th>...</th>\n",
              "      <td>...</td>\n",
              "      <td>...</td>\n",
              "      <td>...</td>\n",
              "    </tr>\n",
              "    <tr>\n",
              "      <th>199</th>\n",
              "      <td>Loja 4</td>\n",
              "      <td>Sofá retrátil</td>\n",
              "      <td>47</td>\n",
              "    </tr>\n",
              "    <tr>\n",
              "      <th>200</th>\n",
              "      <td>Loja 4</td>\n",
              "      <td>TV Led UHD 4K</td>\n",
              "      <td>40</td>\n",
              "    </tr>\n",
              "    <tr>\n",
              "      <th>201</th>\n",
              "      <td>Loja 4</td>\n",
              "      <td>Tablet ABXY</td>\n",
              "      <td>45</td>\n",
              "    </tr>\n",
              "    <tr>\n",
              "      <th>202</th>\n",
              "      <td>Loja 4</td>\n",
              "      <td>Violão</td>\n",
              "      <td>37</td>\n",
              "    </tr>\n",
              "    <tr>\n",
              "      <th>203</th>\n",
              "      <td>Loja 4</td>\n",
              "      <td>Xadrez de madeira</td>\n",
              "      <td>39</td>\n",
              "    </tr>\n",
              "  </tbody>\n",
              "</table>\n",
              "<p>204 rows × 3 columns</p>\n",
              "</div>"
            ],
            "text/plain": [
              "       Loja             Produto  Quantidade\n",
              "0    Loja 1  Assistente virtual          40\n",
              "1    Loja 1             Bateria          53\n",
              "2    Loja 1           Bicicleta          54\n",
              "3    Loja 1    Blocos de montar          56\n",
              "4    Loja 1    Bola de basquete          55\n",
              "..      ...                 ...         ...\n",
              "199  Loja 4       Sofá retrátil          47\n",
              "200  Loja 4       TV Led UHD 4K          40\n",
              "201  Loja 4         Tablet ABXY          45\n",
              "202  Loja 4              Violão          37\n",
              "203  Loja 4   Xadrez de madeira          39\n",
              "\n",
              "[204 rows x 3 columns]"
            ]
          },
          "execution_count": 66,
          "metadata": {},
          "output_type": "execute_result"
        }
      ],
      "source": [
        "lista_lojas = [loja_1, loja_2, loja_3, loja_4]\n",
        "nomes_lojas = ['Loja 1', 'Loja 2', 'Loja 3', 'Loja 4']\n",
        "\n",
        "for nome, loja in zip(nomes_lojas, lista_lojas):\n",
        "    loja['Loja'] = nome\n",
        "\n",
        "dataset_consolidado = pd.concat(lista_lojas)\n",
        "\n",
        "produtos = dataset_consolidado.groupby(['Loja', 'Produto'])['Preço'].count().reset_index().round(2).rename(columns={'Preço': 'Quantidade'})\n",
        "produtos"
      ]
    },
    {
      "cell_type": "code",
      "execution_count": 68,
      "metadata": {},
      "outputs": [
        {
          "data": {
            "application/vnd.microsoft.datawrangler.viewer.v0+json": {
              "columns": [
                {
                  "name": "index",
                  "rawType": "int64",
                  "type": "integer"
                },
                {
                  "name": "Loja",
                  "rawType": "object",
                  "type": "string"
                },
                {
                  "name": "Produto_Mais_Vendido",
                  "rawType": "object",
                  "type": "string"
                },
                {
                  "name": "Produto_Menos_vendido",
                  "rawType": "object",
                  "type": "string"
                }
              ],
              "conversionMethod": "pd.DataFrame",
              "ref": "9d2b9f81-e56c-4f4d-9156-d83215076799",
              "rows": [
                [
                  "0",
                  "Loja 1",
                  "Guarda roupas",
                  "Celular ABXY"
                ],
                [
                  "1",
                  "Loja 2",
                  "Iniciando em programação",
                  "Jogo de tabuleiro"
                ],
                [
                  "2",
                  "Loja 3",
                  "Kit banquetas",
                  "Blocos de montar"
                ],
                [
                  "3",
                  "Loja 4",
                  "Cama box",
                  "Guitarra"
                ]
              ],
              "shape": {
                "columns": 3,
                "rows": 4
              }
            },
            "text/html": [
              "<div>\n",
              "<style scoped>\n",
              "    .dataframe tbody tr th:only-of-type {\n",
              "        vertical-align: middle;\n",
              "    }\n",
              "\n",
              "    .dataframe tbody tr th {\n",
              "        vertical-align: top;\n",
              "    }\n",
              "\n",
              "    .dataframe thead th {\n",
              "        text-align: right;\n",
              "    }\n",
              "</style>\n",
              "<table border=\"1\" class=\"dataframe\">\n",
              "  <thead>\n",
              "    <tr style=\"text-align: right;\">\n",
              "      <th></th>\n",
              "      <th>Loja</th>\n",
              "      <th>Produto_Mais_Vendido</th>\n",
              "      <th>Produto_Menos_vendido</th>\n",
              "    </tr>\n",
              "  </thead>\n",
              "  <tbody>\n",
              "    <tr>\n",
              "      <th>0</th>\n",
              "      <td>Loja 1</td>\n",
              "      <td>Guarda roupas</td>\n",
              "      <td>Celular ABXY</td>\n",
              "    </tr>\n",
              "    <tr>\n",
              "      <th>1</th>\n",
              "      <td>Loja 2</td>\n",
              "      <td>Iniciando em programação</td>\n",
              "      <td>Jogo de tabuleiro</td>\n",
              "    </tr>\n",
              "    <tr>\n",
              "      <th>2</th>\n",
              "      <td>Loja 3</td>\n",
              "      <td>Kit banquetas</td>\n",
              "      <td>Blocos de montar</td>\n",
              "    </tr>\n",
              "    <tr>\n",
              "      <th>3</th>\n",
              "      <td>Loja 4</td>\n",
              "      <td>Cama box</td>\n",
              "      <td>Guitarra</td>\n",
              "    </tr>\n",
              "  </tbody>\n",
              "</table>\n",
              "</div>"
            ],
            "text/plain": [
              "     Loja      Produto_Mais_Vendido Produto_Menos_vendido\n",
              "0  Loja 1             Guarda roupas          Celular ABXY\n",
              "1  Loja 2  Iniciando em programação     Jogo de tabuleiro\n",
              "2  Loja 3             Kit banquetas      Blocos de montar\n",
              "3  Loja 4                  Cama box              Guitarra"
            ]
          },
          "execution_count": 68,
          "metadata": {},
          "output_type": "execute_result"
        }
      ],
      "source": [
        "produto_mais_vendido = produtos.loc[\n",
        "    produtos.groupby('Loja')['Quantidade'].idxmax()\n",
        "].reset_index(drop=True)\n",
        "produto_mais_vendido = produto_mais_vendido[['Loja', 'Produto']].rename(\n",
        "    columns={'Produto': 'Produto_Mais_Vendido'}\n",
        ")\n",
        "\n",
        "produto_menos_vendido = produtos.loc[\n",
        "    produtos.groupby('Loja')['Quantidade'].idxmin()\n",
        "].reset_index(drop=True)\n",
        "produto_menos_vendido = produto_menos_vendido[['Loja', 'Produto']].rename(\n",
        "    columns={'Produto': 'Produto_Menos_vendido'}\n",
        ")\n",
        "\n",
        "resultado = pd.merge(produto_mais_vendido, produto_menos_vendido, on='Loja')\n",
        "resultado"
      ]
    },
    {
      "cell_type": "markdown",
      "metadata": {
        "id": "Fl0cGi3bZKqU"
      },
      "source": [
        "# 5. Frete Médio por Loja\n"
      ]
    },
    {
      "cell_type": "code",
      "execution_count": 63,
      "metadata": {
        "id": "S2JeaCykZNy9"
      },
      "outputs": [
        {
          "data": {
            "application/vnd.microsoft.datawrangler.viewer.v0+json": {
              "columns": [
                {
                  "name": "index",
                  "rawType": "int64",
                  "type": "integer"
                },
                {
                  "name": "Loja",
                  "rawType": "object",
                  "type": "string"
                },
                {
                  "name": "Frete",
                  "rawType": "float64",
                  "type": "float"
                }
              ],
              "conversionMethod": "pd.DataFrame",
              "ref": "a18dbb63-372b-4c0c-85d3-3e01a484e0c1",
              "rows": [
                [
                  "0",
                  "Loja 1",
                  "34.69"
                ],
                [
                  "1",
                  "Loja 2",
                  "33.62"
                ],
                [
                  "2",
                  "Loja 3",
                  "33.07"
                ],
                [
                  "3",
                  "Loja 4",
                  "31.28"
                ]
              ],
              "shape": {
                "columns": 2,
                "rows": 4
              }
            },
            "text/html": [
              "<div>\n",
              "<style scoped>\n",
              "    .dataframe tbody tr th:only-of-type {\n",
              "        vertical-align: middle;\n",
              "    }\n",
              "\n",
              "    .dataframe tbody tr th {\n",
              "        vertical-align: top;\n",
              "    }\n",
              "\n",
              "    .dataframe thead th {\n",
              "        text-align: right;\n",
              "    }\n",
              "</style>\n",
              "<table border=\"1\" class=\"dataframe\">\n",
              "  <thead>\n",
              "    <tr style=\"text-align: right;\">\n",
              "      <th></th>\n",
              "      <th>Loja</th>\n",
              "      <th>Frete</th>\n",
              "    </tr>\n",
              "  </thead>\n",
              "  <tbody>\n",
              "    <tr>\n",
              "      <th>0</th>\n",
              "      <td>Loja 1</td>\n",
              "      <td>34.69</td>\n",
              "    </tr>\n",
              "    <tr>\n",
              "      <th>1</th>\n",
              "      <td>Loja 2</td>\n",
              "      <td>33.62</td>\n",
              "    </tr>\n",
              "    <tr>\n",
              "      <th>2</th>\n",
              "      <td>Loja 3</td>\n",
              "      <td>33.07</td>\n",
              "    </tr>\n",
              "    <tr>\n",
              "      <th>3</th>\n",
              "      <td>Loja 4</td>\n",
              "      <td>31.28</td>\n",
              "    </tr>\n",
              "  </tbody>\n",
              "</table>\n",
              "</div>"
            ],
            "text/plain": [
              "     Loja  Frete\n",
              "0  Loja 1  34.69\n",
              "1  Loja 2  33.62\n",
              "2  Loja 3  33.07\n",
              "3  Loja 4  31.28"
            ]
          },
          "execution_count": 63,
          "metadata": {},
          "output_type": "execute_result"
        }
      ],
      "source": [
        "lista_lojas = [loja_1, loja_2, loja_3, loja_4]\n",
        "nomes_lojas = ['Loja 1', 'Loja 2', 'Loja 3', 'Loja 4']\n",
        "\n",
        "for nome, loja in zip(nomes_lojas, lista_lojas):\n",
        "    loja['Loja'] = nome\n",
        "\n",
        "dataset_consolidado = pd.concat(lista_lojas)\n",
        "\n",
        "media_lojas_frete = dataset_consolidado.groupby(['Loja'])['Frete'].mean().reset_index().round(2)\n",
        "media_lojas_frete"
      ]
    }
  ],
  "metadata": {
    "colab": {
      "provenance": []
    },
    "kernelspec": {
      "display_name": "Python 3",
      "name": "python3"
    },
    "language_info": {
      "codemirror_mode": {
        "name": "ipython",
        "version": 3
      },
      "file_extension": ".py",
      "mimetype": "text/x-python",
      "name": "python",
      "nbconvert_exporter": "python",
      "pygments_lexer": "ipython3",
      "version": "3.10.11"
    }
  },
  "nbformat": 4,
  "nbformat_minor": 0
}
